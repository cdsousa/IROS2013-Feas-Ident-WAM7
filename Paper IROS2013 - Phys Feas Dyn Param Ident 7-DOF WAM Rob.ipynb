{
 "metadata": {
  "name": ""
 },
 "nbformat": 3,
 "nbformat_minor": 0,
 "worksheets": [
  {
   "cells": [
    {
     "cell_type": "markdown",
     "metadata": {},
     "source": [
      "Physically Feasible Dynamic Parameter Identification of the WAM Robot 7-DOF\n",
      "===========================================================================\n",
      "\n",
      "_Research notebook from the paper:_\n",
      "\n",
      "**Sousa, Crist\u00f3v\u00e3o D. and Cortes\u00e3o, Rui, \"Physically feasible dynamic parameter identification of the 7-DOF WAM robot,\" Intelligent Robots and Systems (IROS), 2013 IEEE/RSJ International Conference on , pp.2868-2873, 3-7 Nov. 2013, Tokyo, Japan, doi: [10.1109/IROS.2013.6696762](http://dx.doi.org/10.1109/IROS.2013.6696762)**\n",
      "\n",
      "\n",
      "\n",
      "------------------------\n",
      "\n",
      "\n",
      "Authors\n",
      "-------\n",
      "\n",
      "- Crist\u00f3v\u00e3o D. Sousa, [crisjss@gmail.com](mailto:crisjss@gmail.com)\n",
      "- Rui Cortes\u00e3o, [cortesao@isr.uc.pt](mailto:cortesao@isr.uc.pt)\n",
      "\n",
      "------------------------\n",
      "\n",
      "\n",
      "Research Notebook\n",
      "-----------------\n",
      "\n",
      "The research is done in [Python](http://www.python.org/) within an [IPython notebook](http://ipython.org/notebook.html) (the *Paper IROS2013 - Phys Feas Dyn Param Ident 7-DOF WAM Rob.ipynb* file).\n",
      "Data is in *data* folder. Additional Python support code is in *support_funcs* folder\n",
      "\n",
      "The file *Paper IROS2013 - Phys Feas Dyn Param Ident 7-DOF WAM Rob.html* is a **preview** of the notebook. **It can be seen online at:**\n",
      "\n",
      "**[Paper IROS2013 - Phys Feas Dyn Param Ident 7-DOF WAM Rob](http://goo.gl/8Xv6Mj)**\n",
      "\n",
      "\n",
      "Presentation\n",
      "------------\n",
      "\n",
      "The slides and movies presented at IROS 2013 are avalable online [here](http://goo.gl/U9YmE5).\n",
      "\n",
      "\n",
      "Paper Correction\n",
      "----------------\n",
      "\n",
      "The published paper presents a physically feasible base parameter solution (\"beta star\", rightmost column of Table I) which was obtained not taking the friction parameter positiveness constraints into account, contrary to what is shown in equation (17).\n",
      "In this notebook, both the paper solution (without positiveness constraints on friction parameters) and the correct solution (with positiveness constraints on friction parameters) are computed and presented (to distinguish,  variable names are suffixed with the words \"paper\" and \"correct\", respectivelly). Nevertheless, the differences between both solutions (with exception to the corrected friction parameter) are very small, arround 1%. \n",
      "\n",
      "\n",
      "How to run the code\n",
      "-------------------\n",
      "\n",
      "- clone the git repository (it contains code and data) from https://github.com/cdsousa/IROS2013-Feas-Ident-WAM7\n",
      "- open the *Paper IROS2013 - Phys Feas Dyn Param Ident 7-DOF WAM Rob.ipynb* notebook with [IPython](http://ipython.org/)\n",
      "- edit and run the code\n",
      "\n",
      "Dependencies:\n",
      "\n",
      "- [Python](http://www.python.org/)\n",
      "- [IPython](http://ipython.org/)\n",
      "- [SymPy](http://sympy.org/)\n",
      "- [Numpy](http://www.numpy.org/)\n",
      "- [SciPy](http://www.scipy.org/)\n",
      "- [SymPyBotics](https://github.com/cdsousa/SymPyBotics) (developed by the author Crist\u00f3v\u00e3o D. Sousa)\n",
      "- [PyLMI-SDP](https://github.com/cdsousa/PyLMI-SDP) (developed by the author Crist\u00f3v\u00e3o D. Sousa)\n",
      "\n",
      "------------------------\n",
      "\n",
      "\n",
      "Questions & Feedback\n",
      "--------------------\n",
      "\n",
      "Although being open source, the code can lack some better documentation.\n",
      "Feel free to contact the authors at [crisjss@gmail.com](mailto:crisjss@gmail.com)\n",
      "We are open to help you to deploy this code or even your own implementation of the proposed algorithms.\n",
      "\n",
      "\n",
      "------------------------\n",
      "\n",
      "\n",
      "License\n",
      "-------\n",
      "\n",
      "Copyright (c) 2013, Crist\u00f3v\u00e3o Duarte Sousa, Rui Cortes\u00e3o\n",
      "\n",
      "All rights reserved.\n",
      "\n",
      "[![Creative Commons License](http://i.creativecommons.org/l/by-nc-sa/4.0/88x31.png)](http://creativecommons.org/licenses/by-nc-sa/4.0/)\n",
      "This work is licensed under a [Creative Commons Attribution-NonCommercial-ShareAlike 4.0 International License](http://creativecommons.org/licenses/by-nc-sa/4.0/)\n"
     ]
    },
    {
     "cell_type": "markdown",
     "metadata": {},
     "source": [
      "---------------\n",
      "\n",
      "---------------\n",
      "\n",
      "---------------\n",
      "\n",
      "---------------"
     ]
    },
    {
     "cell_type": "markdown",
     "metadata": {},
     "source": [
      "# Initializations"
     ]
    },
    {
     "cell_type": "code",
     "collapsed": false,
     "input": [
      "datafolder = 'data/'\n",
      "tmpfolder = 'tmp/'"
     ],
     "language": "python",
     "metadata": {},
     "outputs": [],
     "prompt_number": 1
    },
    {
     "cell_type": "code",
     "collapsed": false,
     "input": [
      "from sympy import init_printing\n",
      "init_printing()\n",
      "\n",
      "%pylab inline"
     ],
     "language": "python",
     "metadata": {},
     "outputs": [
      {
       "output_type": "stream",
       "stream": "stdout",
       "text": [
        "Populating the interactive namespace from numpy and matplotlib\n"
       ]
      }
     ],
     "prompt_number": 2
    },
    {
     "cell_type": "markdown",
     "metadata": {},
     "source": [
      "1 - Robot Model\n",
      "==============="
     ]
    },
    {
     "cell_type": "code",
     "collapsed": false,
     "input": [
      "import sympybotics"
     ],
     "language": "python",
     "metadata": {},
     "outputs": [],
     "prompt_number": 3
    },
    {
     "cell_type": "markdown",
     "metadata": {},
     "source": [
      "#### Robot Definition"
     ]
    },
    {
     "cell_type": "code",
     "collapsed": false,
     "input": [
      "rbtdef = sympybotics.RobotDef(\"WAM Arm 7 DOF\",\n",
      "            [(\"-pi/2\", 0, 0, \"q\"),\n",
      "             (\"pi/2\", 0, 0, \"q\"),\n",
      "             (\"-pi/2\", 0.045, 0.55, \"q\"),\n",
      "             (\"pi/2\", -0.045, 0, \"q\"),\n",
      "             (\"-pi/2\", 0, 0.3, \"q\"),\n",
      "             (\"pi/2\", 0, 0, \"q\"),\n",
      "             (0, 0, 0.06, \"q\")],\n",
      "            dh_convention=\"standard\")\n",
      "\n",
      "rbtdef.frictionmodel = {'Coulomb', 'viscous'}"
     ],
     "language": "python",
     "metadata": {},
     "outputs": [],
     "prompt_number": 4
    },
    {
     "cell_type": "markdown",
     "metadata": {},
     "source": [
      "#### Model Generation"
     ]
    },
    {
     "cell_type": "code",
     "collapsed": false,
     "input": [
      "%time rbt = sympybotics.RobotDynCode(rbtdef)\n",
      "%time rbt.calc_base_parms()"
     ],
     "language": "python",
     "metadata": {},
     "outputs": [
      {
       "output_type": "stream",
       "stream": "stdout",
       "text": [
        "CPU times: user 31.5 s, sys: 223 ms, total: 31.7 s\n",
        "Wall time: 31.6 s\n",
        "CPU times: user 24.5 s, sys: 180 ms, total: 24.7 s"
       ]
      },
      {
       "output_type": "stream",
       "stream": "stdout",
       "text": [
        "\n",
        "Wall time: 24.9 s\n"
       ]
      }
     ],
     "prompt_number": 5
    },
    {
     "cell_type": "code",
     "collapsed": false,
     "input": [
      "import pickle\n",
      "with open(tmpfolder + 'robotmodels/wam7_model.pkl', 'wb') as file:\n",
      "    pickle.dump( rbt, file )"
     ],
     "language": "python",
     "metadata": {},
     "outputs": [],
     "prompt_number": 6
    },
    {
     "cell_type": "markdown",
     "metadata": {},
     "source": [
      "## Base Dynamic Parameters"
     ]
    },
    {
     "cell_type": "code",
     "collapsed": false,
     "input": [
      "import pickle\n",
      "with open(tmpfolder +  'robotmodels/wam7_model.pkl', 'rb' ) as file:\n",
      "          rbt = pickle.load( file )"
     ],
     "language": "python",
     "metadata": {},
     "outputs": [],
     "prompt_number": 7
    },
    {
     "cell_type": "code",
     "collapsed": false,
     "input": [
      "rbt.dyn.n_dynparms, rbt.dyn.n_base"
     ],
     "language": "python",
     "metadata": {},
     "outputs": [
      {
       "latex": [
        "$$\\begin{pmatrix}84, & 57\\end{pmatrix}$$"
       ],
       "metadata": {},
       "output_type": "pyout",
       "png": "[encoded data removed]",
       "prompt_number": 8,
       "text": [
        "(84, 57)"
       ]
      }
     ],
     "prompt_number": 8
    },
    {
     "cell_type": "code",
     "collapsed": false,
     "input": [
      "rbt.dyn.baseparms.n()"
     ],
     "language": "python",
     "metadata": {},
     "outputs": [
      {
       "latex": [
        "$$\\left[\\begin{smallmatrix}{}L_{1yy} + L_{2zz}\\\\fv_{1}\\\\fc_{1}\\\\L_{2xx} - L_{2zz} + L_{3zz} - 1.1 l_{3y} + 0.300475 m_{3} + 0.300475 m_{4} + 0.300475 m_{5} + 0.300475 m_{6} + 0.300475 m_{7}\\\\L_{2xy}\\\\L_{2xz}\\\\L_{2yy} + L_{3zz} - 1.1 l_{3y} + 0.300475 m_{3} + 0.300475 m_{4} + 0.300475 m_{5} + 0.300475 m_{6} + 0.300475 m_{7}\\\\L_{2yz}\\\\l_{2x}\\\\l_{2z} - l_{3y} + 0.55 m_{3} + 0.55 m_{4} + 0.55 m_{5} + 0.55 m_{6} + 0.55 m_{7}\\\\fv_{2}\\\\fc_{2}\\\\L_{3xx} - L_{3zz} + L_{4zz} + 0.002025 m_{3}\\\\L_{3xy} - 0.045 l_{3y}\\\\L_{3xz}\\\\L_{3yy} + L_{4zz} - 0.002025 m_{3} - 0.00405 m_{4} - 0.00405 m_{5} - 0.00405 m_{6} - 0.00405 m_{7}\\\\L_{3yz}\\\\l_{3x} + 0.045 m_{3} + 0.045 m_{4} + 0.045 m_{5} + 0.045 m_{6} + 0.045 m_{7}\\\\l_{3z} + l_{4y}\\\\fv_{3}\\\\fc_{3}\\\\L_{4xx} - L_{4zz} + L_{5zz} - 0.6 l_{5y} + 0.002025 m_{4} + 0.092025 m_{5} + 0.092025 m_{6} + 0.092025 m_{7}\\\\L_{4xy} + 0.045 l_{4y}\\\\L_{4xz}\\\\L_{4yy} + L_{5zz} - 0.6 l_{5y} - 0.002025 m_{4} + 0.087975 m_{5} + 0.087975 m_{6} + 0.087975 m_{7}\\\\L_{4yz}\\\\l_{4x} - 0.045 m_{4} - 0.045 m_{5} - 0.045 m_{6} - 0.045 m_{7}\\\\l_{4z} - l_{5y} + 0.3 m_{5} + 0.3 m_{6} + 0.3 m_{7}\\\\fv_{4}\\\\fc_{4}\\\\L_{5xx} - L_{5zz} + L_{6zz}\\\\L_{5xy}\\\\L_{5xz}\\\\L_{5yy} + L_{6zz}\\\\L_{5yz}\\\\l_{5x}\\\\l_{5z} + l_{6y}\\\\fv_{5}\\\\fc_{5}\\\\L_{6xx} - L_{6zz} + L_{7yy} + 0.12 l_{7z} + 0.0036 m_{7}\\\\L_{6xy}\\\\L_{6xz}\\\\L_{6yy} + L_{7yy} + 0.12 l_{7z} + 0.0036 m_{7}\\\\L_{6yz}\\\\l_{6x}\\\\l_{6z} + l_{7z} + 0.06 m_{7}\\\\fv_{6}\\\\fc_{6}\\\\L_{7xx} - L_{7yy}\\\\L_{7xy}\\\\L_{7xz}\\\\L_{7yz}\\\\L_{7zz}\\\\l_{7x}\\\\l_{7y}\\\\fv_{7}\\\\fc_{7}\\end{smallmatrix}\\right]$$"
       ],
       "metadata": {},
       "output_type": "pyout",
       "png": "[encoded data removed]",
       "prompt_number": 9,
       "text": [
        "\u23a1                                            L_1yy + L_2zz                    \n",
        "\u23a2                                                                             \n",
        "\u23a2                                                 fv\u2081                         \n",
        "\u23a2                                                                             \n",
        "\u23a2                                                 fc\u2081                         \n",
        "\u23a2                                                                             \n",
        "\u23a2L\u2082\u2093\u2093 - L_2zz + L_3zz - 1.1\u22c5l_3y + 0.300475\u22c5m\u2083 + 0.300475\u22c5m\u2084 + 0.300475\u22c5m\u2085 + 0\n",
        "\u23a2                                                                             \n",
        "\u23a2                                                L_2xy                        \n",
        "\u23a2                                                                             \n",
        "\u23a2                                                L_2xz                        \n",
        "\u23a2                                                                             \n",
        "\u23a2   L_2yy + L_3zz - 1.1\u22c5l_3y + 0.300475\u22c5m\u2083 + 0.300475\u22c5m\u2084 + 0.300475\u22c5m\u2085 + 0.300\n",
        "\u23a2                                                                             \n",
        "\u23a2                                                L_2yz                        \n",
        "\u23a2                                                                             \n",
        "\u23a2                                                 l\u2082\u2093                         \n",
        "\u23a2                                                                             \n",
        "\u23a2                    l_2z - l_3y + 0.55\u22c5m\u2083 + 0.55\u22c5m\u2084 + 0.55\u22c5m\u2085 + 0.55\u22c5m\u2086 + 0.5\n",
        "\u23a2                                                                             \n",
        "\u23a2                                                 fv\u2082                         \n",
        "\u23a2                                                                             \n",
        "\u23a2                                                 fc\u2082                         \n",
        "\u23a2                                                                             \n",
        "\u23a2                                 L\u2083\u2093\u2093 - L_3zz + L_4zz + 0.002025\u22c5m\u2083          \n",
        "\u23a2                                                                             \n",
        "\u23a2                                         L_3xy - 0.045\u22c5l_3y                  \n",
        "\u23a2                                                                             \n",
        "\u23a2                                                L_3xz                        \n",
        "\u23a2                                                                             \n",
        "\u23a2           L_3yy + L_4zz - 0.002025\u22c5m\u2083 - 0.00405\u22c5m\u2084 - 0.00405\u22c5m\u2085 - 0.00405\u22c5m\u2086\n",
        "\u23a2                                                                             \n",
        "\u23a2                                                L_3yz                        \n",
        "\u23a2                                                                             \n",
        "\u23a2                     l\u2083\u2093 + 0.045\u22c5m\u2083 + 0.045\u22c5m\u2084 + 0.045\u22c5m\u2085 + 0.045\u22c5m\u2086 + 0.045\u22c5\n",
        "\u23a2                                                                             \n",
        "\u23a2                                             l_3z + l_4y                     \n",
        "\u23a2                                                                             \n",
        "\u23a2                                                 fv\u2083                         \n",
        "\u23a2                                                                             \n",
        "\u23a2                                                 fc\u2083                         \n",
        "\u23a2                                                                             \n",
        "\u23a2       L\u2084\u2093\u2093 - L_4zz + L_5zz - 0.6\u22c5l_5y + 0.002025\u22c5m\u2084 + 0.092025\u22c5m\u2085 + 0.092025\n",
        "\u23a2                                                                             \n",
        "\u23a2                                         L_4xy + 0.045\u22c5l_4y                  \n",
        "\u23a2                                                                             \n",
        "\u23a2                                                L_4xz                        \n",
        "\u23a2                                                                             \n",
        "\u23a2          L_4yy + L_5zz - 0.6\u22c5l_5y - 0.002025\u22c5m\u2084 + 0.087975\u22c5m\u2085 + 0.087975\u22c5m\u2086 \n",
        "\u23a2                                                                             \n",
        "\u23a2                                                L_4yz                        \n",
        "\u23a2                                                                             \n",
        "\u23a2                           l\u2084\u2093 - 0.045\u22c5m\u2084 - 0.045\u22c5m\u2085 - 0.045\u22c5m\u2086 - 0.045\u22c5m\u2087   \n",
        "\u23a2                                                                             \n",
        "\u23a2                               l_4z - l_5y + 0.3\u22c5m\u2085 + 0.3\u22c5m\u2086 + 0.3\u22c5m\u2087        \n",
        "\u23a2                                                                             \n",
        "\u23a2                                                 fv\u2084                         \n",
        "\u23a2                                                                             \n",
        "\u23a2                                                 fc\u2084                         \n",
        "\u23a2                                                                             \n",
        "\u23a2                                        L\u2085\u2093\u2093 - L_5zz + L_6zz                 \n",
        "\u23a2                                                                             \n",
        "\u23a2                                                L_5xy                        \n",
        "\u23a2                                                                             \n",
        "\u23a2                                                L_5xz                        \n",
        "\u23a2                                                                             \n",
        "\u23a2                                            L_5yy + L_6zz                    \n",
        "\u23a2                                                                             \n",
        "\u23a2                                                L_5yz                        \n",
        "\u23a2                                                                             \n",
        "\u23a2                                                 l\u2085\u2093                         \n",
        "\u23a2                                                                             \n",
        "\u23a2                                             l_5z + l_6y                     \n",
        "\u23a2                                                                             \n",
        "\u23a2                                                 fv\u2085                         \n",
        "\u23a2                                                                             \n",
        "\u23a2                                                 fc\u2085                         \n",
        "\u23a2                                                                             \n",
        "\u23a2                            L\u2086\u2093\u2093 - L_6zz + L_7yy + 0.12\u22c5l_7z + 0.0036\u22c5m\u2087     \n",
        "\u23a2                                                                             \n",
        "\u23a2                                                L_6xy                        \n",
        "\u23a2                                                                             \n",
        "\u23a2                                                L_6xz                        \n",
        "\u23a2                                                                             \n",
        "\u23a2                                L_6yy + L_7yy + 0.12\u22c5l_7z + 0.0036\u22c5m\u2087        \n",
        "\u23a2                                                                             \n",
        "\u23a2                                                L_6yz                        \n",
        "\u23a2                                                                             \n",
        "\u23a2                                                 l\u2086\u2093                         \n",
        "\u23a2                                                                             \n",
        "\u23a2                                        l_6z + l_7z + 0.06\u22c5m\u2087                \n",
        "\u23a2                                                                             \n",
        "\u23a2                                                 fv\u2086                         \n",
        "\u23a2                                                                             \n",
        "\u23a2                                                 fc\u2086                         \n",
        "\u23a2                                                                             \n",
        "\u23a2                                            L\u2087\u2093\u2093 - L_7yy                     \n",
        "\u23a2                                                                             \n",
        "\u23a2                                                L_7xy                        \n",
        "\u23a2                                                                             \n",
        "\u23a2                                                L_7xz                        \n",
        "\u23a2                                                                             \n",
        "\u23a2                                                L_7yz                        \n",
        "\u23a2                                                                             \n",
        "\u23a2                                                L_7zz                        \n",
        "\u23a2                                                                             \n",
        "\u23a2                                                 l\u2087\u2093                         \n",
        "\u23a2                                                                             \n",
        "\u23a2                                                l_7y                         \n",
        "\u23a2                                                                             \n",
        "\u23a2                                                 fv\u2087                         \n",
        "\u23a2                                                                             \n",
        "\u23a3                                                 fc\u2087                         \n",
        "\n",
        "                        \u23a4\n",
        "                        \u23a5\n",
        "                        \u23a5\n",
        "                        \u23a5\n",
        "                        \u23a5\n",
        "                        \u23a5\n",
        ".300475\u22c5m\u2086 + 0.300475\u22c5m\u2087\u23a5\n",
        "                        \u23a5\n",
        "                        \u23a5\n",
        "                        \u23a5\n",
        "                        \u23a5\n",
        "                        \u23a5\n",
        "475\u22c5m\u2086 + 0.300475\u22c5m\u2087    \u23a5\n",
        "                        \u23a5\n",
        "                        \u23a5\n",
        "                        \u23a5\n",
        "                        \u23a5\n",
        "                        \u23a5\n",
        "5\u22c5m\u2087                    \u23a5\n",
        "                        \u23a5\n",
        "                        \u23a5\n",
        "                        \u23a5\n",
        "                        \u23a5\n",
        "                        \u23a5\n",
        "                        \u23a5\n",
        "                        \u23a5\n",
        "                        \u23a5\n",
        "                        \u23a5\n",
        "                        \u23a5\n",
        "                        \u23a5\n",
        " - 0.00405\u22c5m\u2087           \u23a5\n",
        "                        \u23a5\n",
        "                        \u23a5\n",
        "                        \u23a5\n",
        "m\u2087                      \u23a5\n",
        "                        \u23a5\n",
        "                        \u23a5\n",
        "                        \u23a5\n",
        "                        \u23a5\n",
        "                        \u23a5\n",
        "                        \u23a5\n",
        "                        \u23a5\n",
        "\u22c5m\u2086 + 0.092025\u22c5m\u2087       \u23a5\n",
        "                        \u23a5\n",
        "                        \u23a5\n",
        "                        \u23a5\n",
        "                        \u23a5\n",
        "                        \u23a5\n",
        "+ 0.087975\u22c5m\u2087           \u23a5\n",
        "                        \u23a5\n",
        "                        \u23a5\n",
        "                        \u23a5\n",
        "                        \u23a5\n",
        "                        \u23a5\n",
        "                        \u23a5\n",
        "                        \u23a5\n",
        "                        \u23a5\n",
        "                        \u23a5\n",
        "                        \u23a5\n",
        "                        \u23a5\n",
        "                        \u23a5\n",
        "                        \u23a5\n",
        "                        \u23a5\n",
        "                        \u23a5\n",
        "                        \u23a5\n",
        "                        \u23a5\n",
        "                        \u23a5\n",
        "                        \u23a5\n",
        "                        \u23a5\n",
        "                        \u23a5\n",
        "                        \u23a5\n",
        "                        \u23a5\n",
        "                        \u23a5\n",
        "                        \u23a5\n",
        "                        \u23a5\n",
        "                        \u23a5\n",
        "                        \u23a5\n",
        "                        \u23a5\n",
        "                        \u23a5\n",
        "                        \u23a5\n",
        "                        \u23a5\n",
        "                        \u23a5\n",
        "                        \u23a5\n",
        "                        \u23a5\n",
        "                        \u23a5\n",
        "                        \u23a5\n",
        "                        \u23a5\n",
        "                        \u23a5\n",
        "                        \u23a5\n",
        "                        \u23a5\n",
        "                        \u23a5\n",
        "                        \u23a5\n",
        "                        \u23a5\n",
        "                        \u23a5\n",
        "                        \u23a5\n",
        "                        \u23a5\n",
        "                        \u23a5\n",
        "                        \u23a5\n",
        "                        \u23a5\n",
        "                        \u23a5\n",
        "                        \u23a5\n",
        "                        \u23a5\n",
        "                        \u23a5\n",
        "                        \u23a5\n",
        "                        \u23a5\n",
        "                        \u23a5\n",
        "                        \u23a5\n",
        "                        \u23a5\n",
        "                        \u23a5\n",
        "                        \u23a5\n",
        "                        \u23a5\n",
        "                        \u23a5\n",
        "                        \u23a6"
       ]
      }
     ],
     "prompt_number": 9
    },
    {
     "cell_type": "markdown",
     "metadata": {},
     "source": [
      "2 - Trajectories and Recorded Data\n",
      "=================================="
     ]
    },
    {
     "cell_type": "code",
     "collapsed": false,
     "input": [
      "import pickle\n",
      "import sympybotics\n",
      "import numpy"
     ],
     "language": "python",
     "metadata": {},
     "outputs": [],
     "prompt_number": 10
    },
    {
     "cell_type": "code",
     "collapsed": false,
     "input": [
      "with open(tmpfolder +  'robotmodels/wam7_model.pkl', 'rb' ) as file:\n",
      "          rbt = pickle.load( file )"
     ],
     "language": "python",
     "metadata": {},
     "outputs": [],
     "prompt_number": 11
    },
    {
     "cell_type": "markdown",
     "metadata": {},
     "source": [
      "### Plots"
     ]
    },
    {
     "cell_type": "code",
     "collapsed": false,
     "input": [
      "with open(datafolder +  'trajectories/traj_shwfl_abq0.pkl', 'rb' ) as file:\n",
      "          s_h_wf_l, a_b_q0 = pickle.load(file)"
     ],
     "language": "python",
     "metadata": {},
     "outputs": [],
     "prompt_number": 12
    },
    {
     "cell_type": "code",
     "collapsed": false,
     "input": [
      "h = 0.001\n",
      "decimate = 10\n",
      "h_plot = h*decimate\n",
      "\n",
      "with open(datafolder +  'trajectories/traj.dat', 'r' ) as file:\n",
      "          q_ref_orig = numpy.loadtxt(file)\n",
      "s = q_ref_orig.shape[0] / decimate\n",
      "\n",
      "q_ref = numpy.zeros((s, rbt.dof))\n",
      "for i in range(s):\n",
      "    q_ref[i, :] = q_ref_orig[i*decimate, :]"
     ],
     "language": "python",
     "metadata": {},
     "outputs": [],
     "prompt_number": 13
    },
    {
     "cell_type": "code",
     "collapsed": false,
     "input": [
      "si = 1/h_plot\n",
      "sf = si + 20/h_plot\n",
      "t = numpy.arange(sf-si) * h_plot"
     ],
     "language": "python",
     "metadata": {},
     "outputs": [],
     "prompt_number": 14
    },
    {
     "cell_type": "code",
     "collapsed": false,
     "input": [
      "from matplotlib import pyplot as plt\n",
      "plt.close()\n",
      "\n",
      "for i in range(rbt.dof):\n",
      "    plt.plot(t,q_ref[si:sf,i], label=\"$q_%d$\"%(i+1))\n",
      "plt.legend()\n",
      "\n",
      "plt.xlabel(\"Time (s)\")\n",
      "plt.ylabel(\"Joint positions (rad)\")\n",
      "\n",
      "plt.show()"
     ],
     "language": "python",
     "metadata": {},
     "outputs": [
      {
       "metadata": {},
       "output_type": "display_data",
       "png": "[encoded data removed]",
       "text": [
        "<matplotlib.figure.Figure at 0x8c332d0>"
       ]
      }
     ],
     "prompt_number": 15
    },
    {
     "cell_type": "markdown",
     "metadata": {},
     "source": [
      "3 - Regression Data Processing\n",
      "=============================="
     ]
    },
    {
     "cell_type": "code",
     "collapsed": false,
     "input": [
      "import os\n",
      "import pickle\n",
      "import math\n",
      "import sympy\n",
      "import numpy\n",
      "import sympybotics"
     ],
     "language": "python",
     "metadata": {},
     "outputs": [],
     "prompt_number": 16
    },
    {
     "cell_type": "code",
     "collapsed": false,
     "input": [
      "with open(tmpfolder +  'robotmodels/wam7_model.pkl', 'rb' ) as file:\n",
      "          rbt = pickle.load( file )"
     ],
     "language": "python",
     "metadata": {},
     "outputs": [],
     "prompt_number": 17
    },
    {
     "cell_type": "markdown",
     "metadata": {},
     "source": [
      "### Data Load"
     ]
    },
    {
     "cell_type": "code",
     "collapsed": false,
     "input": [
      "from support_funcs.regr_data_proc import read_data\n",
      "t_raw, q_raw, tau_raw, t_ref, q_ref = read_data( rbt.dof, 0.001,\n",
      "                                                datafolder + 'recdata/rbtlog.dat',\n",
      "                                                datafolder + 'trajectories/traj.dat')"
     ],
     "language": "python",
     "metadata": {},
     "outputs": [],
     "prompt_number": 18
    },
    {
     "cell_type": "markdown",
     "metadata": {},
     "source": [
      "### Some Plots"
     ]
    },
    {
     "cell_type": "code",
     "collapsed": false,
     "input": [
      "from matplotlib import pyplot as plt\n",
      "plt.close()\n",
      "\n",
      "for i in range(q_raw.shape[1]):\n",
      "    plt.plot(t_raw,q_raw[:,i])\n",
      "\n",
      "plt.show()"
     ],
     "language": "python",
     "metadata": {},
     "outputs": [
      {
       "metadata": {},
       "output_type": "display_data",
       "png": "[encoded data removed]",
       "text": [
        "<matplotlib.figure.Figure at 0x926de10>"
       ]
      }
     ],
     "prompt_number": 19
    },
    {
     "cell_type": "code",
     "collapsed": false,
     "input": [
      "from matplotlib import pyplot as plt\n",
      "plt.close()\n",
      "\n",
      "joint = 7\n",
      "plt.plot(t_ref+2.6,q_ref[:,joint-1])\n",
      "plt.plot(t_raw,q_raw[:,joint-1])\n",
      "\n",
      "plt.show()"
     ],
     "language": "python",
     "metadata": {},
     "outputs": [
      {
       "metadata": {},
       "output_type": "display_data",
       "png": "[encoded data removed]",
       "text": [
        "<matplotlib.figure.Figure at 0xa35d650>"
       ]
      }
     ],
     "prompt_number": 20
    },
    {
     "cell_type": "code",
     "collapsed": false,
     "input": [
      "del t_raw, q_raw, tau_raw, t_ref, q_ref"
     ],
     "language": "python",
     "metadata": {},
     "outputs": [],
     "prompt_number": 21
    },
    {
     "cell_type": "markdown",
     "metadata": {},
     "source": [
      "### Parameter Load"
     ]
    },
    {
     "cell_type": "code",
     "collapsed": false,
     "input": [
      "with open(datafolder +  'trajectories/traj_shwfl_abq0.pkl', 'rb' ) as file:\n",
      "          s_h_wf_l, a_b_q0 = pickle.load(file)\n",
      "\n",
      "print(dict(zip(('S', 'h', 'wf', 'L'), s_h_wf_l)))\n",
      "print('\\n')"
     ],
     "language": "python",
     "metadata": {},
     "outputs": [
      {
       "output_type": "stream",
       "stream": "stdout",
       "text": [
        "{'h': 0.040000000000000001, 'S': 500.0, 'L': 5.0, 'wf': 0.31415926535897931}\n",
        "\n",
        "\n"
       ]
      }
     ],
     "prompt_number": 22
    },
    {
     "cell_type": "markdown",
     "metadata": {},
     "source": [
      "### Filter Cut-off Frequency Definition"
     ]
    },
    {
     "cell_type": "code",
     "collapsed": false,
     "input": [
      "fc_mult = 10"
     ],
     "language": "python",
     "metadata": {},
     "outputs": [],
     "prompt_number": 23
    },
    {
     "cell_type": "code",
     "collapsed": false,
     "input": [
      "wf = float(s_h_wf_l[2])\n",
      "L = float(s_h_wf_l[3])\n",
      "fc = fc_mult * ( wf / (2*math.pi) * L )\n",
      "fc"
     ],
     "language": "python",
     "metadata": {},
     "outputs": [
      {
       "latex": [
        "$$2.5$$"
       ],
       "metadata": {},
       "output_type": "pyout",
       "png": "[encoded data removed]",
       "prompt_number": 24,
       "text": [
        "2.5"
       ]
      }
     ],
     "prompt_number": 24
    },
    {
     "cell_type": "code",
     "collapsed": false,
     "input": [
      "fc_q = fc\n",
      "fc_dq = fc\n",
      "fc_ddq = fc\n",
      "\n",
      "fc_tau = fc\n",
      "\n",
      "si = int(3/0.001)\n",
      "sf = -int(1/0.001)-172"
     ],
     "language": "python",
     "metadata": {},
     "outputs": [],
     "prompt_number": 25
    },
    {
     "cell_type": "markdown",
     "metadata": {},
     "source": [
      "### Data Filtering, Differentiation and Regression Data Generation"
     ]
    },
    {
     "cell_type": "code",
     "collapsed": false,
     "input": [
      "rec_h = 0.001 # sampling time"
     ],
     "language": "python",
     "metadata": {},
     "outputs": [],
     "prompt_number": 26
    },
    {
     "cell_type": "code",
     "collapsed": false,
     "input": [
      "from support_funcs.regr_data_proc import read_data, diff_and_filt_data, gen_regr_matrices\n",
      "from support_funcs.utils import _fprint\n",
      "\n",
      "t_raw, q_raw, tau_raw, t_ref, q_ref = read_data(dof=rbt.dof, h=rec_h,\n",
      "                                                rbtlogfile=datafolder + 'recdata/rbtlog.dat',\n",
      "                                                trajreffile=datafolder + 'trajectories/traj.dat')\n",
      "\n",
      "q, dq, ddq, tau = diff_and_filt_data(dof=rbt.dof, h=rec_h,  q_raw=q_raw, tau_raw=tau_raw,\n",
      "                               fc_q=fc_q, fc_dq=fc_dq, fc_ddq=fc_ddq, fc_tau=fc_tau)\n",
      "\n",
      "t_raw = t_raw[si:sf]; q_raw = q_raw[si:sf]; tau_raw = tau_raw[si:sf]\n",
      "q = q[si:sf]; dq = dq[si:sf]; ddq = ddq[si:sf]; tau = tau[si:sf]\n",
      "\n",
      "t_raw = t_raw - t_raw[0]\n",
      "\n",
      "t = numpy.array(range(q.shape[0])) * rec_h\n",
      "\n",
      "W, omega, Q1, R1, rho1 = gen_regr_matrices(rbt, q, dq, ddq, tau)\n",
      "    \n",
      "\n",
      "\n",
      "\n",
      "_fprint(' (cond=%f)'%numpy.linalg.cond(W))\n",
      "\n",
      "_fprint('save')\n",
      "\n",
      "%time \\\n",
      "numpy.savez_compressed(tmpfolder + 'procdata/raw', t=t_raw, q=q_raw, tau=tau_raw);\\\n",
      "numpy.savez_compressed(tmpfolder + 'procdata/proc', t=t, q=q, dq=dq, ddq=ddq, tau=tau); \\\n",
      "numpy.savez_compressed(tmpfolder + 'procdata/regr', W=W, omega=omega, Q1=Q1, R1=R1, rho1=rho1)\n",
      "\n",
      "del t_raw, q_raw, tau_raw, t, q, dq, ddq, tau, W, omega, Q1, R1, rho1"
     ],
     "language": "python",
     "metadata": {},
     "outputs": [
      {
       "output_type": "stream",
       "stream": "stdout",
       "text": [
        " (cond=47.665784)\n"
       ]
      },
      {
       "output_type": "stream",
       "stream": "stdout",
       "text": [
        "save\n"
       ]
      },
      {
       "output_type": "stream",
       "stream": "stdout",
       "text": [
        "CPU times: user 15.3 s, sys: 1.02 s, total: 16.3 s\n",
        "Wall time: 23.3 s\n"
       ]
      }
     ],
     "prompt_number": 27
    },
    {
     "cell_type": "markdown",
     "metadata": {},
     "source": [
      "### Plot"
     ]
    },
    {
     "cell_type": "code",
     "collapsed": false,
     "input": [
      "raw = numpy.load(tmpfolder + 'procdata/raw.npz')\n",
      "tau_raw = raw['tau']\n",
      "q_raw = raw['q']\n",
      "del raw\n",
      "proc = numpy.load(tmpfolder + 'procdata/proc.npz')\n",
      "t = proc['t']\n",
      "tau = proc['tau']\n",
      "q = proc['q']\n",
      "dq = proc['dq']\n",
      "del proc"
     ],
     "language": "python",
     "metadata": {},
     "outputs": [],
     "prompt_number": 28
    },
    {
     "cell_type": "code",
     "collapsed": false,
     "input": [
      "q.shape"
     ],
     "language": "python",
     "metadata": {},
     "outputs": [
      {
       "latex": [
        "$$\\begin{pmatrix}60000, & 7\\end{pmatrix}$$"
       ],
       "metadata": {},
       "output_type": "pyout",
       "png": "[encoded data removed]",
       "prompt_number": 29,
       "text": [
        "(60000, 7)"
       ]
      }
     ],
     "prompt_number": 29
    },
    {
     "cell_type": "code",
     "collapsed": false,
     "input": [
      "from matplotlib import pyplot as plt\n",
      "plt.close()\n",
      "\n",
      "joint = 1\n",
      "firsts = 20000\n",
      "plt.plot(t[:firsts],q_raw[:,joint-1][:firsts])\n",
      "#plt.plot(t[:firsts],q[:,joint-1][:firsts])\n",
      "#plt.plot(t[:firsts],dq[:,joint-1][:firsts])\n",
      "plt.plot(t[:firsts],tau_raw[:,joint-1][:firsts])\n",
      "\n",
      "plt.show()"
     ],
     "language": "python",
     "metadata": {},
     "outputs": [
      {
       "metadata": {},
       "output_type": "display_data",
       "png": "[encoded data removed]",
       "text": [
        "<matplotlib.figure.Figure at 0xa332e50>"
       ]
      }
     ],
     "prompt_number": 30
    },
    {
     "cell_type": "code",
     "collapsed": false,
     "input": [
      "del t, q, dq, tau, q_raw, tau_raw"
     ],
     "language": "python",
     "metadata": {},
     "outputs": [],
     "prompt_number": 31
    },
    {
     "cell_type": "markdown",
     "metadata": {},
     "source": [
      "4 - Near-zero Velocity Data Elimination\n",
      "======================================="
     ]
    },
    {
     "cell_type": "code",
     "collapsed": false,
     "input": [
      "import numpy"
     ],
     "language": "python",
     "metadata": {},
     "outputs": [],
     "prompt_number": 32
    },
    {
     "cell_type": "code",
     "collapsed": false,
     "input": [
      "proc = numpy.load(tmpfolder + 'procdata/proc.npz')\n",
      "dq = proc['dq']\n",
      "regr = numpy.load(tmpfolder + 'procdata/regr.npz')\n",
      "omega = numpy.matrix(regr['omega'])\n",
      "W = numpy.matrix(regr['W'])\n",
      "del proc, regr"
     ],
     "language": "python",
     "metadata": {},
     "outputs": [],
     "prompt_number": 33
    },
    {
     "cell_type": "code",
     "collapsed": false,
     "input": [
      "w = omega\n",
      "v = dq.flatten()\n",
      "s = len(v)"
     ],
     "language": "python",
     "metadata": {},
     "outputs": [],
     "prompt_number": 34
    },
    {
     "cell_type": "code",
     "collapsed": false,
     "input": [
      "def selected_regression( obs_mat, output_vec, select_list=None ):\n",
      "    \n",
      "    if select_list is None:\n",
      "        A = obs_mat[:,:]\n",
      "        b = output_vec[:,:]\n",
      "    else:\n",
      "        A = obs_mat[select_list,:]\n",
      "        b = output_vec[select_list,:]\n",
      "    \n",
      "    num = len(b)\n",
      "    q1,r1 = numpy.linalg.qr(A)\n",
      "    b1 = q1.T*b\n",
      "    cond = numpy.linalg.cond(r1)\n",
      "    x = numpy.linalg.inv(r1.T * r1) * r1.T * b1\n",
      "    se = b - A*x\n",
      "    err = numpy.linalg.norm(se)\n",
      "    relerr = err / numpy.linalg.norm(b)\n",
      "    mse = err**2/(num-A.shape[1])\n",
      "    \n",
      "    return x,se,{'num':num,'cond':cond,'mse':mse, 'relerr':relerr}"
     ],
     "language": "python",
     "metadata": {},
     "outputs": [],
     "prompt_number": 35
    },
    {
     "cell_type": "code",
     "collapsed": false,
     "input": [
      "list_v_threshold = numpy.arange(0.0, 0.02, 0.002).tolist() + numpy.arange(0.02, 0.08+1e-10, 0.02).tolist()"
     ],
     "language": "python",
     "metadata": {},
     "outputs": [],
     "prompt_number": 36
    },
    {
     "cell_type": "code",
     "collapsed": false,
     "input": [
      "selections = []\n",
      "list_props = []\n",
      "v_db_unc_regr = []\n",
      "v_num = []\n",
      "v_cond = []\n",
      "v_relerr = []\n",
      "v_mse = []\n",
      "for idx, v_threshold in enumerate(list_v_threshold):\n",
      "    r_vel = []\n",
      "    if True:\n",
      "        for i,vi in enumerate(v):\n",
      "            if numpy.abs(vi) >= v_threshold:\n",
      "                r_vel.append( i )\n",
      "    else:                \n",
      "        for i in range(len(v)/rbt.dof):\n",
      "            elimin = False\n",
      "            for l in range(rbt.dof):\n",
      "                vi = v[i*rbt.dof+l]\n",
      "                if numpy.abs(vi) < v_threshold:\n",
      "                    elimin = True\n",
      "            if not elimin:\n",
      "                r_vel += [i*rbt.dof+l for l in range(rbt.dof)]\n",
      "    selections.append(r_vel)\n",
      "    db_unc_regr_vel,se,props = selected_regression( W, w, r_vel )\n",
      "    list_props.append(props)\n",
      "    v_db_unc_regr.append(db_unc_regr_vel)\n",
      "    v_num.append(props['num'])\n",
      "    v_cond.append(props['cond'])\n",
      "    v_relerr.append(props['relerr'])\n",
      "    v_mse.append(props['mse'])\n",
      "    \n",
      "    print \"%d %.3f %s\"%(idx, v_threshold, props)"
     ],
     "language": "python",
     "metadata": {},
     "outputs": [
      {
       "output_type": "stream",
       "stream": "stdout",
       "text": [
        "0 0.000 {'relerr': 0.065001185750151097, 'mse': 0.1919519060505985, 'num': 420000, 'cond': 47.665784291044233}\n",
        "1 0.002 {'relerr': 0.060541569314894766, 'mse': 0.16888220553048766, 'num': 412627, 'cond': 47.665556047994585}"
       ]
      },
      {
       "output_type": "stream",
       "stream": "stdout",
       "text": [
        "\n",
        "2 0.004 {'relerr': 0.058376032296917145, 'mse': 0.15840923418100106, 'num': 407455, 'cond': 48.016029495365316}"
       ]
      },
      {
       "output_type": "stream",
       "stream": "stdout",
       "text": [
        "\n",
        "3 0.006 {'relerr': 0.057037930540787693, 'mse': 0.15231873436148083, 'num': 403143, 'cond': 48.151307558365183}"
       ]
      },
      {
       "output_type": "stream",
       "stream": "stdout",
       "text": [
        "\n",
        "4 0.008 {'relerr': 0.056503807646075412, 'mse': 0.15017782241450842, 'num': 399946, 'cond': 48.282315104825493}"
       ]
      },
      {
       "output_type": "stream",
       "stream": "stdout",
       "text": [
        "\n",
        "5 0.010 {'relerr': 0.056165780143189861, 'mse': 0.14894663698897942, 'num': 397333, 'cond': 48.3946416206919}"
       ]
      },
      {
       "output_type": "stream",
       "stream": "stdout",
       "text": [
        "\n",
        "6 0.012 {'relerr': 0.055962844771432867, 'mse': 0.14830666199855119, 'num': 395123, 'cond': 48.517618144393552}"
       ]
      },
      {
       "output_type": "stream",
       "stream": "stdout",
       "text": [
        "\n",
        "7 0.014 {'relerr': 0.055798139062068507, 'mse': 0.1478060402255989, 'num': 393086, 'cond': 48.638205359933131}"
       ]
      },
      {
       "output_type": "stream",
       "stream": "stdout",
       "text": [
        "\n",
        "8 0.016 {'relerr': 0.055632994395873152, 'mse': 0.14724670987205066, 'num': 391077, 'cond': 48.76514081953475}"
       ]
      },
      {
       "output_type": "stream",
       "stream": "stdout",
       "text": [
        "\n",
        "9 0.018 {'relerr': 0.055537544791336789, 'mse': 0.14707341213600827, 'num': 389130, 'cond': 48.89150137276274}"
       ]
      },
      {
       "output_type": "stream",
       "stream": "stdout",
       "text": [
        "\n",
        "10 0.020 {'relerr': 0.055461842440442236, 'mse': 0.14699404582759037, 'num': 387294, 'cond': 49.020702056156416}"
       ]
      },
      {
       "output_type": "stream",
       "stream": "stdout",
       "text": [
        "\n",
        "11 0.040 {'relerr': 0.055083634995312637, 'mse': 0.14699394960383888, 'num': 372967, 'cond': 51.06448480406862}"
       ]
      },
      {
       "output_type": "stream",
       "stream": "stdout",
       "text": [
        "\n",
        "12 0.060 {'relerr': 0.05481760216003656, 'mse': 0.14661501527769974, 'num': 362076, 'cond': 53.381795030501316}"
       ]
      },
      {
       "output_type": "stream",
       "stream": "stdout",
       "text": [
        "\n",
        "13 0.080 {'relerr': 0.054450672701337931, 'mse': 0.14498479649139431, 'num': 353395, 'cond': 54.590336383529625}"
       ]
      },
      {
       "output_type": "stream",
       "stream": "stdout",
       "text": [
        "\n"
       ]
      }
     ],
     "prompt_number": 37
    },
    {
     "cell_type": "code",
     "collapsed": false,
     "input": [
      "from matplotlib import pyplot as plt\n",
      "\n",
      "plt.figure(figsize=(5,3))\n",
      "plt.plot(list_v_threshold,v_cond/v_cond[0]*100, label='Condition number')\n",
      "plt.plot(list_v_threshold,v_mse/v_mse[0]*100, label='MSE')\n",
      "#plt.plot(list_v_threshold,v_relerr/v_relerr[0]*100, label='rel err')\n",
      "plt.legend(loc='right')\n",
      "plt.axis([0.0,0.08,70,120])\n",
      "plt.ylabel('Ratio to values of complete data set (%)')\n",
      "plt.xlabel('Velocity threshold ($\\mathrm{rad}/s$)')\n",
      "\n",
      "plt.show()"
     ],
     "language": "python",
     "metadata": {},
     "outputs": [
      {
       "metadata": {},
       "output_type": "display_data",
       "png": "[encoded data removed]",
       "text": [
        "<matplotlib.figure.Figure at 0x8dc66d0>"
       ]
      }
     ],
     "prompt_number": 38
    },
    {
     "cell_type": "code",
     "collapsed": false,
     "input": [
      "threshold_idx = 5"
     ],
     "language": "python",
     "metadata": {},
     "outputs": [],
     "prompt_number": 39
    },
    {
     "cell_type": "code",
     "collapsed": false,
     "input": [
      "(v_cond[threshold_idx] / v_cond[0]  - 1) * 100.0"
     ],
     "language": "python",
     "metadata": {},
     "outputs": [
      {
       "latex": [
        "$$1.52909962668$$"
       ],
       "metadata": {},
       "output_type": "pyout",
       "png": "[encoded data removed]",
       "prompt_number": 40,
       "text": [
        "1.52909962668"
       ]
      }
     ],
     "prompt_number": 40
    },
    {
     "cell_type": "code",
     "collapsed": false,
     "input": [
      "(v_mse[threshold_idx]/v_mse[0] - 1) *100"
     ],
     "language": "python",
     "metadata": {},
     "outputs": [
      {
       "latex": [
        "$$-22.4041896465$$"
       ],
       "metadata": {},
       "output_type": "pyout",
       "png": "[encoded data removed]",
       "prompt_number": 41,
       "text": [
        "-22.4041896465"
       ]
      }
     ],
     "prompt_number": 41
    },
    {
     "cell_type": "code",
     "collapsed": false,
     "input": [
      "v_cond[threshold_idx]"
     ],
     "language": "python",
     "metadata": {},
     "outputs": [
      {
       "latex": [
        "$$48.3946416207$$"
       ],
       "metadata": {},
       "output_type": "pyout",
       "png": "[encoded data removed]",
       "prompt_number": 42,
       "text": [
        "48.3946416207"
       ]
      }
     ],
     "prompt_number": 42
    },
    {
     "cell_type": "code",
     "collapsed": false,
     "input": [
      "select = selections[threshold_idx]\n",
      "threshold = list_v_threshold[threshold_idx]\n",
      "\n",
      "W_n0v = W[select,:]\n",
      "omega_n0v = omega[select,:]\n",
      "    \n",
      "Q1_n0v,R1_n0v = numpy.linalg.qr(W_n0v)\n",
      "rho1_n0v = Q1_n0v.T*omega_n0v"
     ],
     "language": "python",
     "metadata": {},
     "outputs": [],
     "prompt_number": 43
    },
    {
     "cell_type": "code",
     "collapsed": false,
     "input": [
      "%time \\\n",
      "numpy.savez_compressed(tmpfolder + 'procdata/regr_n0v', W=W_n0v, omega=omega_n0v, Q1=Q1_n0v, R1=R1_n0v, rho1=rho1_n0v)\n",
      "\n",
      "del W, omega, W_n0v, omega_n0v, Q1_n0v, R1_n0v, rho1_n0v"
     ],
     "language": "python",
     "metadata": {},
     "outputs": [
      {
       "output_type": "stream",
       "stream": "stdout",
       "text": [
        "CPU times: user 12.8 s, sys: 640 ms, total: 13.5 s\n",
        "Wall time: 21 s\n"
       ]
      }
     ],
     "prompt_number": 44
    },
    {
     "cell_type": "markdown",
     "metadata": {},
     "source": [
      "5 - Dynamic Parameter Estimation\n",
      "================================"
     ]
    },
    {
     "cell_type": "code",
     "collapsed": false,
     "input": [
      "import os\n",
      "import pickle\n",
      "import sympy\n",
      "import numpy\n",
      "import time\n",
      "\n",
      "import sympybotics\n",
      "import lmi_sdp\n",
      "\n",
      "from lmi_sdp import init_lmi_latex_printing\n",
      "init_lmi_latex_printing()"
     ],
     "language": "python",
     "metadata": {},
     "outputs": [],
     "prompt_number": 3
    },
    {
     "cell_type": "code",
     "collapsed": false,
     "input": [
      "with open(tmpfolder +  'robotmodels/wam7_model.pkl', 'rb' ) as file:\n",
      "          rbt = pickle.load( file )"
     ],
     "language": "python",
     "metadata": {},
     "outputs": [],
     "prompt_number": 4
    },
    {
     "cell_type": "code",
     "collapsed": false,
     "input": [
      "epsilon_safemargin = 1e-30"
     ],
     "language": "python",
     "metadata": {},
     "outputs": [],
     "prompt_number": 5
    },
    {
     "cell_type": "markdown",
     "metadata": {},
     "source": [
      "## LMI Matrix Definitions"
     ]
    },
    {
     "cell_type": "code",
     "collapsed": false,
     "input": [
      "dof = rbt.dof\n",
      "\n",
      "delta = rbt.dyn.dynparms\n",
      "n_delta = rbt.dyn.n_dynparms\n",
      "\n",
      "beta = rbt.dyn.baseparms.n()\n",
      "n_beta = rbt.dyn.n_base\n",
      "beta_symbs = sympy.Matrix([sympy.Symbol('beta'+str(i+1),real=True) for i in range(n_beta)])\n",
      "\n",
      "delta_d = (rbt.dyn.Pd.T*delta)\n",
      "n_delta_d = len(delta_d)\n",
      "\n",
      "K = rbt.dyn.Pb.T + rbt.dyn.Kd * rbt.dyn.Pd.T"
     ],
     "language": "python",
     "metadata": {},
     "outputs": [],
     "prompt_number": 6
    },
    {
     "cell_type": "code",
     "collapsed": false,
     "input": [
      "from support_funcs.utils import skew, mrepl\n",
      "from sympy import BlockMatrix, Matrix, eye, Identity\n",
      "I = Identity\n",
      "S = skew"
     ],
     "language": "python",
     "metadata": {},
     "outputs": [],
     "prompt_number": 7
    },
    {
     "cell_type": "code",
     "collapsed": false,
     "input": [
      "D_inertia_blocks = []\n",
      "for i in range(dof):\n",
      "    L = rbt.rbtdef.L[i]\n",
      "    l = rbt.rbtdef.l[i]\n",
      "    m = rbt.rbtdef.m[i]\n",
      "    Di = BlockMatrix([[L,    S(l).T],\n",
      "                      [S(l), I(3)*m]])\n",
      "    D_inertia_blocks.append(Di.as_explicit())"
     ],
     "language": "python",
     "metadata": {},
     "outputs": [],
     "prompt_number": 8
    },
    {
     "cell_type": "code",
     "collapsed": false,
     "input": [
      "D_inertia_blocks[0]"
     ],
     "language": "python",
     "metadata": {},
     "outputs": [
      {
       "latex": [
        "$$\\left[\\begin{smallmatrix}{}L_{1xx} & L_{1xy} & L_{1xz} & 0 & l_{1z} & - l_{1y}\\\\L_{1xy} & L_{1yy} & L_{1yz} & - l_{1z} & 0 & l_{1x}\\\\L_{1xz} & L_{1yz} & L_{1zz} & l_{1y} & - l_{1x} & 0\\\\0 & - l_{1z} & l_{1y} & m_{1} & 0 & 0\\\\l_{1z} & 0 & - l_{1x} & 0 & m_{1} & 0\\\\- l_{1y} & l_{1x} & 0 & 0 & 0 & m_{1}\\end{smallmatrix}\\right]$$"
       ],
       "metadata": {},
       "output_type": "pyout",
       "png": "[encoded data removed]",
       "prompt_number": 9,
       "text": [
        "\u23a1L\u2081\u2093\u2093   L_1xy  L_1xz    0    l_1z  -l_1y\u23a4\n",
        "\u23a2                                       \u23a5\n",
        "\u23a2L_1xy  L_1yy  L_1yz  -l_1z   0     l\u2081\u2093 \u23a5\n",
        "\u23a2                                       \u23a5\n",
        "\u23a2L_1xz  L_1yz  L_1zz  l_1y   -l\u2081\u2093    0  \u23a5\n",
        "\u23a2                                       \u23a5\n",
        "\u23a2  0    -l_1z  l_1y    m\u2081     0      0  \u23a5\n",
        "\u23a2                                       \u23a5\n",
        "\u23a2l_1z     0    -l\u2081\u2093     0     m\u2081     0  \u23a5\n",
        "\u23a2                                       \u23a5\n",
        "\u23a3-l_1y   l\u2081\u2093     0      0     0     m\u2081  \u23a6"
       ]
      }
     ],
     "prompt_number": 9
    },
    {
     "cell_type": "code",
     "collapsed": false,
     "input": [
      "D_other_blocks = []\n",
      "for i in range(dof):\n",
      "    D_other_blocks.append( Matrix([rbt.rbtdef.fv[i]]) )\n",
      "    D_other_blocks.append( Matrix([rbt.rbtdef.fc[i]]) )"
     ],
     "language": "python",
     "metadata": {},
     "outputs": [],
     "prompt_number": 10
    },
    {
     "cell_type": "code",
     "collapsed": false,
     "input": [
      "D_blocks = D_inertia_blocks + D_other_blocks"
     ],
     "language": "python",
     "metadata": {},
     "outputs": [],
     "prompt_number": 11
    },
    {
     "cell_type": "code",
     "collapsed": false,
     "input": [
      "D_blocks"
     ],
     "language": "python",
     "metadata": {},
     "outputs": [
      {
       "latex": [
        "$$\\begin{bmatrix}\\left[\\begin{smallmatrix}{}L_{1xx} & L_{1xy} & L_{1xz} & 0 & l_{1z} & - l_{1y}\\\\L_{1xy} & L_{1yy} & L_{1yz} & - l_{1z} & 0 & l_{1x}\\\\L_{1xz} & L_{1yz} & L_{1zz} & l_{1y} & - l_{1x} & 0\\\\0 & - l_{1z} & l_{1y} & m_{1} & 0 & 0\\\\l_{1z} & 0 & - l_{1x} & 0 & m_{1} & 0\\\\- l_{1y} & l_{1x} & 0 & 0 & 0 & m_{1}\\end{smallmatrix}\\right], & \\left[\\begin{smallmatrix}{}L_{2xx} & L_{2xy} & L_{2xz} & 0 & l_{2z} & - l_{2y}\\\\L_{2xy} & L_{2yy} & L_{2yz} & - l_{2z} & 0 & l_{2x}\\\\L_{2xz} & L_{2yz} & L_{2zz} & l_{2y} & - l_{2x} & 0\\\\0 & - l_{2z} & l_{2y} & m_{2} & 0 & 0\\\\l_{2z} & 0 & - l_{2x} & 0 & m_{2} & 0\\\\- l_{2y} & l_{2x} & 0 & 0 & 0 & m_{2}\\end{smallmatrix}\\right], & \\left[\\begin{smallmatrix}{}L_{3xx} & L_{3xy} & L_{3xz} & 0 & l_{3z} & - l_{3y}\\\\L_{3xy} & L_{3yy} & L_{3yz} & - l_{3z} & 0 & l_{3x}\\\\L_{3xz} & L_{3yz} & L_{3zz} & l_{3y} & - l_{3x} & 0\\\\0 & - l_{3z} & l_{3y} & m_{3} & 0 & 0\\\\l_{3z} & 0 & - l_{3x} & 0 & m_{3} & 0\\\\- l_{3y} & l_{3x} & 0 & 0 & 0 & m_{3}\\end{smallmatrix}\\right], & \\left[\\begin{smallmatrix}{}L_{4xx} & L_{4xy} & L_{4xz} & 0 & l_{4z} & - l_{4y}\\\\L_{4xy} & L_{4yy} & L_{4yz} & - l_{4z} & 0 & l_{4x}\\\\L_{4xz} & L_{4yz} & L_{4zz} & l_{4y} & - l_{4x} & 0\\\\0 & - l_{4z} & l_{4y} & m_{4} & 0 & 0\\\\l_{4z} & 0 & - l_{4x} & 0 & m_{4} & 0\\\\- l_{4y} & l_{4x} & 0 & 0 & 0 & m_{4}\\end{smallmatrix}\\right], & \\left[\\begin{smallmatrix}{}L_{5xx} & L_{5xy} & L_{5xz} & 0 & l_{5z} & - l_{5y}\\\\L_{5xy} & L_{5yy} & L_{5yz} & - l_{5z} & 0 & l_{5x}\\\\L_{5xz} & L_{5yz} & L_{5zz} & l_{5y} & - l_{5x} & 0\\\\0 & - l_{5z} & l_{5y} & m_{5} & 0 & 0\\\\l_{5z} & 0 & - l_{5x} & 0 & m_{5} & 0\\\\- l_{5y} & l_{5x} & 0 & 0 & 0 & m_{5}\\end{smallmatrix}\\right], & \\left[\\begin{smallmatrix}{}L_{6xx} & L_{6xy} & L_{6xz} & 0 & l_{6z} & - l_{6y}\\\\L_{6xy} & L_{6yy} & L_{6yz} & - l_{6z} & 0 & l_{6x}\\\\L_{6xz} & L_{6yz} & L_{6zz} & l_{6y} & - l_{6x} & 0\\\\0 & - l_{6z} & l_{6y} & m_{6} & 0 & 0\\\\l_{6z} & 0 & - l_{6x} & 0 & m_{6} & 0\\\\- l_{6y} & l_{6x} & 0 & 0 & 0 & m_{6}\\end{smallmatrix}\\right], & \\left[\\begin{smallmatrix}{}L_{7xx} & L_{7xy} & L_{7xz} & 0 & l_{7z} & - l_{7y}\\\\L_{7xy} & L_{7yy} & L_{7yz} & - l_{7z} & 0 & l_{7x}\\\\L_{7xz} & L_{7yz} & L_{7zz} & l_{7y} & - l_{7x} & 0\\\\0 & - l_{7z} & l_{7y} & m_{7} & 0 & 0\\\\l_{7z} & 0 & - l_{7x} & 0 & m_{7} & 0\\\\- l_{7y} & l_{7x} & 0 & 0 & 0 & m_{7}\\end{smallmatrix}\\right], & \\left[\\begin{smallmatrix}{}fv_{1}\\end{smallmatrix}\\right], & \\left[\\begin{smallmatrix}{}fc_{1}\\end{smallmatrix}\\right], & \\left[\\begin{smallmatrix}{}fv_{2}\\end{smallmatrix}\\right], & \\left[\\begin{smallmatrix}{}fc_{2}\\end{smallmatrix}\\right], & \\left[\\begin{smallmatrix}{}fv_{3}\\end{smallmatrix}\\right], & \\left[\\begin{smallmatrix}{}fc_{3}\\end{smallmatrix}\\right], & \\left[\\begin{smallmatrix}{}fv_{4}\\end{smallmatrix}\\right], & \\left[\\begin{smallmatrix}{}fc_{4}\\end{smallmatrix}\\right], & \\left[\\begin{smallmatrix}{}fv_{5}\\end{smallmatrix}\\right], & \\left[\\begin{smallmatrix}{}fc_{5}\\end{smallmatrix}\\right], & \\left[\\begin{smallmatrix}{}fv_{6}\\end{smallmatrix}\\right], & \\left[\\begin{smallmatrix}{}fc_{6}\\end{smallmatrix}\\right], & \\left[\\begin{smallmatrix}{}fv_{7}\\end{smallmatrix}\\right], & \\left[\\begin{smallmatrix}{}fc_{7}\\end{smallmatrix}\\right]\\end{bmatrix}$$"
       ],
       "metadata": {},
       "output_type": "pyout",
       "prompt_number": 12,
       "text": [
        "\u23a1\u23a1L\u2081\u2093\u2093   L_1xy  L_1xz    0    l_1z  -l_1y\u23a4, \u23a1L\u2082\u2093\u2093   L_2xy  L_2xz    0    l_2z \n",
        "\u23a2\u23a2                                       \u23a5  \u23a2                                 \n",
        "\u23a2\u23a2L_1xy  L_1yy  L_1yz  -l_1z   0     l\u2081\u2093 \u23a5  \u23a2L_2xy  L_2yy  L_2yz  -l_2z   0   \n",
        "\u23a2\u23a2                                       \u23a5  \u23a2                                 \n",
        "\u23a2\u23a2L_1xz  L_1yz  L_1zz  l_1y   -l\u2081\u2093    0  \u23a5  \u23a2L_2xz  L_2yz  L_2zz  l_2y   -l\u2082\u2093 \n",
        "\u23a2\u23a2                                       \u23a5  \u23a2                                 \n",
        "\u23a2\u23a2  0    -l_1z  l_1y    m\u2081     0      0  \u23a5  \u23a2  0    -l_2z  l_2y    m\u2082     0   \n",
        "\u23a2\u23a2                                       \u23a5  \u23a2                                 \n",
        "\u23a2\u23a2l_1z     0    -l\u2081\u2093     0     m\u2081     0  \u23a5  \u23a2l_2z     0    -l\u2082\u2093     0     m\u2082  \n",
        "\u23a2\u23a2                                       \u23a5  \u23a2                                 \n",
        "\u23a3\u23a3-l_1y   l\u2081\u2093     0      0     0     m\u2081  \u23a6  \u23a3-l_2y   l\u2082\u2093     0      0     0   \n",
        "\n",
        " -l_2y\u23a4, \u23a1L\u2083\u2093\u2093   L_3xy  L_3xz    0    l_3z  -l_3y\u23a4, \u23a1L\u2084\u2093\u2093   L_4xy  L_4xz    0 \n",
        "      \u23a5  \u23a2                                       \u23a5  \u23a2                         \n",
        "  l\u2082\u2093 \u23a5  \u23a2L_3xy  L_3yy  L_3yz  -l_3z   0     l\u2083\u2093 \u23a5  \u23a2L_4xy  L_4yy  L_4yz  -l_4\n",
        "      \u23a5  \u23a2                                       \u23a5  \u23a2                         \n",
        "   0  \u23a5  \u23a2L_3xz  L_3yz  L_3zz  l_3y   -l\u2083\u2093    0  \u23a5  \u23a2L_4xz  L_4yz  L_4zz  l_4y\n",
        "      \u23a5  \u23a2                                       \u23a5  \u23a2                         \n",
        "   0  \u23a5  \u23a2  0    -l_3z  l_3y    m\u2083     0      0  \u23a5  \u23a2  0    -l_4z  l_4y    m\u2084 \n",
        "      \u23a5  \u23a2                                       \u23a5  \u23a2                         \n",
        "   0  \u23a5  \u23a2l_3z     0    -l\u2083\u2093     0     m\u2083     0  \u23a5  \u23a2l_4z     0    -l\u2084\u2093     0 \n",
        "      \u23a5  \u23a2                                       \u23a5  \u23a2                         \n",
        "  m\u2082  \u23a6  \u23a3-l_3y   l\u2083\u2093     0      0     0     m\u2083  \u23a6  \u23a3-l_4y   l\u2084\u2093     0      0 \n",
        "\n",
        "   l_4z  -l_4y\u23a4, \u23a1L\u2085\u2093\u2093   L_5xy  L_5xz    0    l_5z  -l_5y\u23a4, \u23a1L\u2086\u2093\u2093   L_6xy  L_6\n",
        "              \u23a5  \u23a2                                       \u23a5  \u23a2                 \n",
        "z   0     l\u2084\u2093 \u23a5  \u23a2L_5xy  L_5yy  L_5yz  -l_5z   0     l\u2085\u2093 \u23a5  \u23a2L_6xy  L_6yy  L_6\n",
        "              \u23a5  \u23a2                                       \u23a5  \u23a2                 \n",
        "   -l\u2084\u2093    0  \u23a5  \u23a2L_5xz  L_5yz  L_5zz  l_5y   -l\u2085\u2093    0  \u23a5  \u23a2L_6xz  L_6yz  L_6\n",
        "              \u23a5  \u23a2                                       \u23a5  \u23a2                 \n",
        "    0      0  \u23a5  \u23a2  0    -l_5z  l_5y    m\u2085     0      0  \u23a5  \u23a2  0    -l_6z  l_6\n",
        "              \u23a5  \u23a2                                       \u23a5  \u23a2                 \n",
        "    m\u2084     0  \u23a5  \u23a2l_5z     0    -l\u2085\u2093     0     m\u2085     0  \u23a5  \u23a2l_6z     0    -l\u2086\n",
        "              \u23a5  \u23a2                                       \u23a5  \u23a2                 \n",
        "    0     m\u2084  \u23a6  \u23a3-l_5y   l\u2085\u2093     0      0     0     m\u2085  \u23a6  \u23a3-l_6y   l\u2086\u2093     0\n",
        "\n",
        "xz    0    l_6z  -l_6y\u23a4, \u23a1L\u2087\u2093\u2093   L_7xy  L_7xz    0    l_7z  -l_7y\u23a4, [fv\u2081], [fc\n",
        "                      \u23a5  \u23a2                                       \u23a5            \n",
        "yz  -l_6z   0     l\u2086\u2093 \u23a5  \u23a2L_7xy  L_7yy  L_7yz  -l_7z   0     l\u2087\u2093 \u23a5            \n",
        "                      \u23a5  \u23a2                                       \u23a5            \n",
        "zz  l_6y   -l\u2086\u2093    0  \u23a5  \u23a2L_7xz  L_7yz  L_7zz  l_7y   -l\u2087\u2093    0  \u23a5            \n",
        "                      \u23a5  \u23a2                                       \u23a5            \n",
        "y    m\u2086     0      0  \u23a5  \u23a2  0    -l_7z  l_7y    m\u2087     0      0  \u23a5            \n",
        "                      \u23a5  \u23a2                                       \u23a5            \n",
        "\u2093     0     m\u2086     0  \u23a5  \u23a2l_7z     0    -l\u2087\u2093     0     m\u2087     0  \u23a5            \n",
        "                      \u23a5  \u23a2                                       \u23a5            \n",
        "      0     0     m\u2086  \u23a6  \u23a3-l_7y   l\u2087\u2093     0      0     0     m\u2087  \u23a6            \n",
        "\n",
        "\u2081], [fv\u2082], [fc\u2082], [fv\u2083], [fc\u2083], [fv\u2084], [fc\u2084], [fv\u2085], [fc\u2085], [fv\u2086], [fc\u2086], [fv\u2087\n",
        "                                                                              \n",
        "                                                                              \n",
        "                                                                              \n",
        "                                                                              \n",
        "                                                                              \n",
        "                                                                              \n",
        "                                                                              \n",
        "                                                                              \n",
        "                                                                              \n",
        "                                                                              \n",
        "\n",
        "], [fc\u2087]\u23a4\n",
        "        \u23a5\n",
        "        \u23a5\n",
        "        \u23a5\n",
        "        \u23a5\n",
        "        \u23a5\n",
        "        \u23a5\n",
        "        \u23a5\n",
        "        \u23a5\n",
        "        \u23a5\n",
        "        \u23a6"
       ]
      }
     ],
     "prompt_number": 12
    },
    {
     "cell_type": "markdown",
     "metadata": {},
     "source": [
      "## LMI Definitions"
     ]
    },
    {
     "cell_type": "code",
     "collapsed": false,
     "input": [
      "from lmi_sdp import LMI_PD, LMI"
     ],
     "language": "python",
     "metadata": {},
     "outputs": [],
     "prompt_number": 13
    },
    {
     "cell_type": "code",
     "collapsed": false,
     "input": [
      "LMIs = list(map(LMI_PD, D_blocks))"
     ],
     "language": "python",
     "metadata": {},
     "outputs": [],
     "prompt_number": 14
    },
    {
     "cell_type": "code",
     "collapsed": false,
     "input": [
      "LMIs[0]"
     ],
     "language": "python",
     "metadata": {},
     "outputs": [
      {
       "latex": [
        "$$\\left[\\begin{smallmatrix}{}L_{1xx} & L_{1xy} & L_{1xz} & 0 & l_{1z} & - l_{1y}\\\\L_{1xy} & L_{1yy} & L_{1yz} & - l_{1z} & 0 & l_{1x}\\\\L_{1xz} & L_{1yz} & L_{1zz} & l_{1y} & - l_{1x} & 0\\\\0 & - l_{1z} & l_{1y} & m_{1} & 0 & 0\\\\l_{1z} & 0 & - l_{1x} & 0 & m_{1} & 0\\\\- l_{1y} & l_{1x} & 0 & 0 & 0 & m_{1}\\end{smallmatrix}\\right] \\succ 0$$"
       ],
       "metadata": {},
       "output_type": "pyout",
       "png": "[encoded data removed]",
       "prompt_number": 15,
       "text": [
        "\u23a1L\u2081\u2093\u2093   L_1xy  L_1xz    0    l_1z  -l_1y\u23a4 > 0\n",
        "\u23a2                                       \u23a5    \n",
        "\u23a2L_1xy  L_1yy  L_1yz  -l_1z   0     l\u2081\u2093 \u23a5    \n",
        "\u23a2                                       \u23a5    \n",
        "\u23a2L_1xz  L_1yz  L_1zz  l_1y   -l\u2081\u2093    0  \u23a5    \n",
        "\u23a2                                       \u23a5    \n",
        "\u23a2  0    -l_1z  l_1y    m\u2081     0      0  \u23a5    \n",
        "\u23a2                                       \u23a5    \n",
        "\u23a2l_1z     0    -l\u2081\u2093     0     m\u2081     0  \u23a5    \n",
        "\u23a2                                       \u23a5    \n",
        "\u23a3-l_1y   l\u2081\u2093     0      0     0     m\u2081  \u23a6    "
       ]
      }
     ],
     "prompt_number": 15
    },
    {
     "cell_type": "code",
     "collapsed": false,
     "input": [
      "LMIs_marg = list(map(lambda lm: LMI(lm, epsilon_safemargin*eye(lm.shape[0])) , D_blocks))"
     ],
     "language": "python",
     "metadata": {},
     "outputs": [],
     "prompt_number": 16
    },
    {
     "cell_type": "code",
     "collapsed": false,
     "input": [
      "LMIs_marg[0]"
     ],
     "language": "python",
     "metadata": {},
     "outputs": [
      {
       "latex": [
        "$$\\left[\\begin{smallmatrix}{}L_{1xx} & L_{1xy} & L_{1xz} & 0 & l_{1z} & - l_{1y}\\\\L_{1xy} & L_{1yy} & L_{1yz} & - l_{1z} & 0 & l_{1x}\\\\L_{1xz} & L_{1yz} & L_{1zz} & l_{1y} & - l_{1x} & 0\\\\0 & - l_{1z} & l_{1y} & m_{1} & 0 & 0\\\\l_{1z} & 0 & - l_{1x} & 0 & m_{1} & 0\\\\- l_{1y} & l_{1x} & 0 & 0 & 0 & m_{1}\\end{smallmatrix}\\right] \\succeq \\left[\\begin{smallmatrix}{}1.0 \\cdot 10^{-30} & 0 & 0 & 0 & 0 & 0\\\\0 & 1.0 \\cdot 10^{-30} & 0 & 0 & 0 & 0\\\\0 & 0 & 1.0 \\cdot 10^{-30} & 0 & 0 & 0\\\\0 & 0 & 0 & 1.0 \\cdot 10^{-30} & 0 & 0\\\\0 & 0 & 0 & 0 & 1.0 \\cdot 10^{-30} & 0\\\\0 & 0 & 0 & 0 & 0 & 1.0 \\cdot 10^{-30}\\end{smallmatrix}\\right]$$"
       ],
       "metadata": {},
       "output_type": "pyout",
       "png": "[encoded data removed]",
       "prompt_number": 17,
       "text": [
        "\u23a1L\u2081\u2093\u2093   L_1xy  L_1xz    0    l_1z  -l_1y\u23a4 \u2265 \u23a11.0e-30     0        0        0  \n",
        "\u23a2                                       \u23a5   \u23a2                                 \n",
        "\u23a2L_1xy  L_1yy  L_1yz  -l_1z   0     l\u2081\u2093 \u23a5   \u23a2   0     1.0e-30     0        0  \n",
        "\u23a2                                       \u23a5   \u23a2                                 \n",
        "\u23a2L_1xz  L_1yz  L_1zz  l_1y   -l\u2081\u2093    0  \u23a5   \u23a2   0        0     1.0e-30     0  \n",
        "\u23a2                                       \u23a5   \u23a2                                 \n",
        "\u23a2  0    -l_1z  l_1y    m\u2081     0      0  \u23a5   \u23a2   0        0        0     1.0e-3\n",
        "\u23a2                                       \u23a5   \u23a2                                 \n",
        "\u23a2l_1z     0    -l\u2081\u2093     0     m\u2081     0  \u23a5   \u23a2   0        0        0        0  \n",
        "\u23a2                                       \u23a5   \u23a2                                 \n",
        "\u23a3-l_1y   l\u2081\u2093     0      0     0     m\u2081  \u23a6   \u23a3   0        0        0        0  \n",
        "\n",
        "      0        0   \u23a4\n",
        "                   \u23a5\n",
        "      0        0   \u23a5\n",
        "                   \u23a5\n",
        "      0        0   \u23a5\n",
        "                   \u23a5\n",
        "0     0        0   \u23a5\n",
        "                   \u23a5\n",
        "   1.0e-30     0   \u23a5\n",
        "                   \u23a5\n",
        "      0     1.0e-30\u23a6"
       ]
      }
     ],
     "prompt_number": 17
    },
    {
     "cell_type": "code",
     "collapsed": false,
     "input": [
      "LMIs_marg[0].canonical()"
     ],
     "language": "python",
     "metadata": {},
     "outputs": [
      {
       "latex": [
        "$$\\left[\\begin{smallmatrix}{}L_{1xx} - 1.0 \\cdot 10^{-30} & L_{1xy} & L_{1xz} & 0 & l_{1z} & - l_{1y}\\\\L_{1xy} & L_{1yy} - 1.0 \\cdot 10^{-30} & L_{1yz} & - l_{1z} & 0 & l_{1x}\\\\L_{1xz} & L_{1yz} & L_{1zz} - 1.0 \\cdot 10^{-30} & l_{1y} & - l_{1x} & 0\\\\0 & - l_{1z} & l_{1y} & m_{1} - 1.0 \\cdot 10^{-30} & 0 & 0\\\\l_{1z} & 0 & - l_{1x} & 0 & m_{1} - 1.0 \\cdot 10^{-30} & 0\\\\- l_{1y} & l_{1x} & 0 & 0 & 0 & m_{1} - 1.0 \\cdot 10^{-30}\\end{smallmatrix}\\right] \\succeq 0$$"
       ],
       "metadata": {},
       "output_type": "pyout",
       "png": "[encoded data removed]",
       "prompt_number": 18,
       "text": [
        "\u23a1L\u2081\u2093\u2093 - 1.0e-30       L_1xy            L_1xz            0            l_1z     \n",
        "\u23a2                                                                             \n",
        "\u23a2    L_1xy       L_1yy - 1.0e-30       L_1yz          -l_1z           0       \n",
        "\u23a2                                                                             \n",
        "\u23a2    L_1xz            L_1yz       L_1zz - 1.0e-30      l_1y          -l\u2081\u2093     \n",
        "\u23a2                                                                             \n",
        "\u23a2      0              -l_1z            l_1y        m\u2081 - 1.0e-30       0       \n",
        "\u23a2                                                                             \n",
        "\u23a2     l_1z              0              -l\u2081\u2093             0        m\u2081 - 1.0e-30 \n",
        "\u23a2                                                                             \n",
        "\u23a3    -l_1y             l\u2081\u2093               0              0             0       \n",
        "\n",
        "    -l_1y    \u23a4 \u2265 0\n",
        "             \u23a5    \n",
        "     l\u2081\u2093     \u23a5    \n",
        "             \u23a5    \n",
        "      0      \u23a5    \n",
        "             \u23a5    \n",
        "      0      \u23a5    \n",
        "             \u23a5    \n",
        "      0      \u23a5    \n",
        "             \u23a5    \n",
        " m\u2081 - 1.0e-30\u23a6    "
       ]
      }
     ],
     "prompt_number": 18
    },
    {
     "cell_type": "code",
     "collapsed": false,
     "input": [
      "LMIs_paper = list(map(LMI_PD, D_inertia_blocks))\n",
      "LMIs_marg_paper = list(map(lambda lm: LMI(lm, epsilon_safemargin*eye(lm.shape[0])) , D_inertia_blocks))"
     ],
     "language": "python",
     "metadata": {},
     "outputs": [],
     "prompt_number": 19
    },
    {
     "cell_type": "markdown",
     "metadata": {},
     "source": [
      "## SDP Solver Interfaces"
     ]
    },
    {
     "cell_type": "markdown",
     "metadata": {},
     "source": [
      "### [SDPA](http://sdpa.sourceforge.net/)"
     ]
    },
    {
     "cell_type": "code",
     "collapsed": false,
     "input": [
      "def sdpa(objf, lmis, variables):\n",
      "    sdpadat = lmi_sdp.to_sdpa_sparse(objf, lmis, variables)\n",
      "    with open(tmpfolder + 'sdpa_dat/sdp.dat-s', 'w') as f:\n",
      "        f.write(sdpadat)\n",
      "    \n",
      "    stdout = !sdpa -ds \"$tmpfolder\"sdpa_dat/sdp.dat-s -o \"$tmpfolder\"sdpa_dat/sdpa.out -p \"$tmpfolder\"sdpa_dat/param.sdpa\n",
      "\n",
      "    outfile = !cat \"$tmpfolder\"sdpa_dat/sdpa.out\n",
      "    \n",
      "    solstart = outfile.index('xVec = ')\n",
      "    print('\\n'.join(outfile[:solstart]))\n",
      "    \n",
      "    sol = [float(v) for v in outfile[solstart + 1].replace('{', '').replace('}', '').split(',')]\n",
      "    return numpy.matrix(sol).T"
     ],
     "language": "python",
     "metadata": {},
     "outputs": [],
     "prompt_number": 20
    },
    {
     "cell_type": "markdown",
     "metadata": {},
     "source": [
      "### [CSDP](https://projects.coin-or.org/Csdp/)"
     ]
    },
    {
     "cell_type": "code",
     "collapsed": false,
     "input": [
      "def csdp(objf, lmis, variables):\n",
      "    sdpadat = lmi_sdp.to_sdpa_sparse(objf, lmis, variables)\n",
      "    with open(tmpfolder + 'sdpa_dat/sdp.dat-s', 'w') as f:\n",
      "        f.write(sdpadat)\n",
      "    \n",
      "    stdout = !cd \"$tmpfolder\"sdpa_dat; csdp sdp.dat-s csdp.out\n",
      "    print('\\n'.join(stdout))\n",
      "\n",
      "    outfile = !cat \"$tmpfolder\"sdpa_dat/csdp.out\n",
      "    sol = [float(v) for v in outfile[0].split()]\n",
      "    return numpy.matrix(sol).T"
     ],
     "language": "python",
     "metadata": {},
     "outputs": [],
     "prompt_number": 21
    },
    {
     "cell_type": "markdown",
     "metadata": {},
     "source": [
      "### [CVXOPT CONELP](http://abel.ee.ucla.edu/cvxopt/userguide/coneprog.html#cvxopt.solvers.sdp)"
     ]
    },
    {
     "cell_type": "code",
     "collapsed": false,
     "input": [
      "def cvxopt_conelp(objf, lmis, variables):\n",
      "    import cvxopt.solvers\n",
      "    c, Gs, hs = lmi_sdp.to_cvxopt(objf, lmis, variables)\n",
      "    tic = time.time()\n",
      "    sdpout = cvxopt.solvers.sdp(c, Gs=Gs, hs=hs)\n",
      "    toc = time.time()\n",
      "    print(sdpout['status'])\n",
      "    print('Elapsed time: %.2f s'%(toc-tic))\n",
      "    return numpy.matrix(sdpout['x'])"
     ],
     "language": "python",
     "metadata": {},
     "outputs": [],
     "prompt_number": 22
    },
    {
     "cell_type": "markdown",
     "metadata": {},
     "source": [
      "### [Raw SDPA file](http://plato.asu.edu/ftp/sdpa_format.txt)\n",
      "\n",
      "Can be solved online with the [NEOS SDPA Solver](http://www.neos-server.org/neos/solvers/sdp:SDPA/SPARSE_SDPA.html)"
     ]
    },
    {
     "cell_type": "code",
     "collapsed": false,
     "input": [
      "def sdpa_file(objf, lmis, variables):\n",
      "    sdpadat = lmi_sdp.to_sdpa_sparse(objf, lmis, variables)\n",
      "    with open(tmpfolder + 'sdpa_dat/sdpa_input.dat-s', 'w') as f:\n",
      "        f.write(sdpadat)\n",
      "        \n",
      "    print(\"SDPA file saved at: %ssdpa_dat/sdpa_input.dat-s\"%tmpfolder)"
     ],
     "language": "python",
     "metadata": {},
     "outputs": [],
     "prompt_number": 23
    },
    {
     "cell_type": "markdown",
     "metadata": {},
     "source": [
      "--------------"
     ]
    },
    {
     "cell_type": "markdown",
     "metadata": {},
     "source": [
      "Setting the default SDP solver:"
     ]
    },
    {
     "cell_type": "code",
     "collapsed": false,
     "input": [
      "solve_sdp = sdpa"
     ],
     "language": "python",
     "metadata": {},
     "outputs": [],
     "prompt_number": 24
    },
    {
     "cell_type": "markdown",
     "metadata": {},
     "source": [
      "## OLS Regression ($\\hat{\\beta}$)"
     ]
    },
    {
     "cell_type": "code",
     "collapsed": false,
     "input": [
      "regr_mats = numpy.load(tmpfolder + 'procdata/regr_n0v.npz')\n",
      "W = numpy.matrix(regr_mats['W'])\n",
      "omega = numpy.matrix(regr_mats['omega'])\n",
      "R1 = numpy.matrix(regr_mats['R1'])\n",
      "rho1 = numpy.matrix(regr_mats['rho1'])"
     ],
     "language": "python",
     "metadata": {},
     "outputs": [],
     "prompt_number": 25
    },
    {
     "cell_type": "code",
     "collapsed": false,
     "input": [
      "omega.shape[0] / rbt.dof"
     ],
     "language": "python",
     "metadata": {},
     "outputs": [
      {
       "latex": [
        "$$56761$$"
       ],
       "metadata": {},
       "output_type": "pyout",
       "png": "[encoded data removed]",
       "prompt_number": 26,
       "text": [
        "56761"
       ]
      }
     ],
     "prompt_number": 26
    },
    {
     "cell_type": "code",
     "collapsed": false,
     "input": [
      "W.shape"
     ],
     "language": "python",
     "metadata": {},
     "outputs": [
      {
       "latex": [
        "$$\\begin{pmatrix}397333, & 57\\end{pmatrix}$$"
       ],
       "metadata": {},
       "output_type": "pyout",
       "png": "[encoded data removed]",
       "prompt_number": 27,
       "text": [
        "(397333, 57)"
       ]
      }
     ],
     "prompt_number": 27
    },
    {
     "cell_type": "code",
     "collapsed": false,
     "input": [
      "numpy.linalg.cond(W)"
     ],
     "language": "python",
     "metadata": {},
     "outputs": [
      {
       "latex": [
        "$$48.3946416207$$"
       ],
       "metadata": {},
       "output_type": "pyout",
       "png": "[encoded data removed]",
       "prompt_number": 28,
       "text": [
        "48.3946416207"
       ]
      }
     ],
     "prompt_number": 28
    },
    {
     "cell_type": "code",
     "collapsed": false,
     "input": [
      "%time beta_ols = (R1.T * R1).I * R1.T * rho1"
     ],
     "language": "python",
     "metadata": {},
     "outputs": [
      {
       "output_type": "stream",
       "stream": "stdout",
       "text": [
        "CPU times: user 0 ns, sys: 0 ns, total: 0 ns\n",
        "Wall time: 1.24 ms\n"
       ]
      }
     ],
     "prompt_number": 32
    },
    {
     "cell_type": "code",
     "collapsed": false,
     "input": [
      "numpy.savetxt(tmpfolder + 'solutions/beta_ols.dat', beta_ols)"
     ],
     "language": "python",
     "metadata": {},
     "outputs": [],
     "prompt_number": 33
    },
    {
     "cell_type": "code",
     "collapsed": false,
     "input": [
      "rho2_norm_sqr = numpy.linalg.norm(omega - W * beta_ols)**2"
     ],
     "language": "python",
     "metadata": {},
     "outputs": [],
     "prompt_number": 34
    },
    {
     "cell_type": "markdown",
     "metadata": {},
     "source": [
      "## Feasible Parameter Estimation with Ordinary Least Squares ($\\delta^\\star$)"
     ]
    },
    {
     "cell_type": "code",
     "collapsed": false,
     "input": [
      "u = sympy.Symbol('u')\n",
      "U_rho = BlockMatrix([[Matrix([u - rho2_norm_sqr]), (rho1 - R1*K*delta).T],\n",
      "                     [rho1 - R1*K*delta,                       I(n_beta)]])\n",
      "U_rho = U_rho.as_explicit()"
     ],
     "language": "python",
     "metadata": {},
     "outputs": [],
     "prompt_number": 35
    },
    {
     "cell_type": "code",
     "collapsed": false,
     "input": [
      "lmis_fpe_ols_paper = [LMI(U_rho)] + LMIs_marg_paper\n",
      "lmis_fpe_ols_correct = [LMI(U_rho)] + LMIs_marg"
     ],
     "language": "python",
     "metadata": {},
     "outputs": [],
     "prompt_number": 36
    },
    {
     "cell_type": "code",
     "collapsed": false,
     "input": [
      "variables_fpe_ols = [u] + list(delta)"
     ],
     "language": "python",
     "metadata": {},
     "outputs": [],
     "prompt_number": 37
    },
    {
     "cell_type": "code",
     "collapsed": false,
     "input": [
      "objf_fpe_ols = u"
     ],
     "language": "python",
     "metadata": {},
     "outputs": [],
     "prompt_number": 38
    },
    {
     "cell_type": "code",
     "collapsed": false,
     "input": [
      "sol_fpe_ols_paper = sdpa(objf_fpe_ols, lmis_fpe_ols_paper, variables_fpe_ols)"
     ],
     "language": "python",
     "metadata": {},
     "outputs": [
      {
       "output_type": "stream",
       "stream": "stdout",
       "text": [
        "SDPA start at [Tue Dec 10 11:04:10 2013]\n",
        "param  is tmp/sdpa_dat/param.sdpa \n",
        "data   is tmp/sdpa_dat/sdp.dat-s  : sparse\n",
        "out    is tmp/sdpa_dat/sdpa.out\n",
        "NumThreads  is set as 1\n",
        "Schur computation : DENSE \n",
        "   mu      thetaP  thetaD  objP      objD      alphaP  alphaD  beta \n",
        " 0 1.0e+04 1.0e+00 1.0e+00 -0.00e+00 +5.91e+06 6.4e-01 7.7e-01 2.00e-01\n",
        " 1 4.5e+03 3.6e-01 2.3e-01 +3.77e+04 +1.40e+06 7.5e-01 7.8e-01 2.00e-01\n",
        " 2 1.5e+03 9.3e-02 5.1e-02 +5.38e+04 +3.50e+05 8.5e-01 8.7e-01 2.00e-01\n",
        " 3 3.7e+02 1.4e-02 6.9e-03 +5.86e+04 +8.81e+04 8.1e-01 8.4e-01 2.00e-01\n",
        " 4 1.3e+02 2.6e-03 1.1e-03 +5.91e+04 +5.74e+04 6.2e-01 8.7e-01 2.00e-01\n",
        " 5 4.2e+01 1.0e-03 1.4e-04 +5.92e+04 +5.72e+04 3.8e-01 4.8e-01 2.00e-01\n",
        " 6 2.6e+01 6.2e-04 7.4e-05 +5.92e+04 +5.84e+04 2.3e-01 3.2e-01 2.00e-01\n",
        " 7 2.2e+01 4.8e-04 5.0e-05 +5.94e+04 +5.93e+04 2.7e-01 3.8e-01 2.00e-01\n",
        " 8 1.9e+01 3.5e-04 3.1e-05 +5.97e+04 +6.00e+04 2.9e-01 4.3e-01 2.00e-01\n",
        " 9 1.7e+01 2.5e-04 1.8e-05 +6.02e+04 +6.04e+04 4.3e-01 2.0e-01 2.00e-01\n",
        "10 1.3e+01 1.4e-04 1.4e-05 +6.06e+04 +6.08e+04 4.7e-01 2.0e-01 2.00e-01\n",
        "11 1.0e+01 7.5e-05 1.1e-05 +6.10e+04 +6.09e+04 3.8e-01 3.1e-01 2.00e-01\n",
        "12 7.8e+00 4.6e-05 7.8e-06 +6.12e+04 +6.11e+04 5.9e-01 3.4e-01 2.00e-01\n",
        "13 5.2e+00 1.9e-05 5.1e-06 +6.14e+04 +6.13e+04 6.5e-01 6.8e-01 2.00e-01\n",
        "14 2.4e+00 6.7e-06 1.6e-06 +6.16e+04 +6.15e+04 9.6e-01 7.9e-01 2.00e-01\n",
        "15 7.9e-01 2.7e-07 3.6e-07 +6.17e+04 +6.16e+04 1.0e+00 7.1e-01 2.00e-01\n",
        "16 3.2e-01 3.1e-14 1.3e-06 +6.16e+04 +6.16e+04 1.4e+00 9.0e-01 2.00e-01\n",
        "17 8.0e-02 1.5e-14 1.4e-07 +6.16e+04 +6.16e+04 1.9e+00 8.9e-01 2.00e-01\n",
        "18 2.2e-02 8.6e-15 1.5e-08 +6.16e+04 +6.16e+04 1.3e+00 8.9e-01 2.00e-01\n",
        "19 5.7e-03 3.4e-14 1.4e-07 +6.16e+04 +6.16e+04 1.2e+00 8.6e-01 2.00e-01\n",
        "20 1.7e-03 4.0e-14 2.0e-08 +6.16e+04 +6.16e+04 1.3e+00 8.4e-01 2.00e-01\n",
        "21 5.0e-04 3.1e-14 6.1e-08 +6.16e+04 +6.16e+04 1.3e+00 8.4e-01 2.00e-01\n",
        "\n",
        "phase.value  = pFEAS     \n",
        "   Iteration = 21\n",
        "          mu = +5.0390121719867014e-04\n",
        "relative gap = +3.4827729031106328e-07\n",
        "        gap  = +2.1470521023729816e-02\n",
        "     digits  = +6.4580748431246988e+00\n",
        "objValPrimal = +6.1647788586505012e+04\n",
        "objValDual   = +6.1647767115983988e+04\n",
        "p.feas.error = +1.8174971944118212e-09\n",
        "d.feas.error = +1.8303071556147188e-05\n",
        "total time   = 0.535821\n",
        "** Paramters **\n",
        "maxIteration = 100\n",
        "epsilonStar  = +9.9999999999999995e-08\n",
        "lambdaStar   = +1.0000000000000000e+02\n",
        "omegaStar    = +2.0000000000000000e+00\n",
        "lowerBound   = -1.0000000000000000e+05\n",
        "upperBound   = +1.0000000000000000e+05\n",
        "betaStar     = +1.0000000000000001e-01\n",
        "betaBar      = +2.0000000000000001e-01\n",
        "gammaStar    = +9.0000000000000002e-01\n",
        "epsilonDash  = +9.9999999999999995e-08\n",
        "xPrint       = %+14.9e \n",
        "XPrint       = %+14.9e \n",
        "YPrint       = %+14.9e \n",
        "infPrint     = %+10.16e \n",
        "\n",
        "                         Time(sec)  Ratio(% : MainLoop) \n",
        " Predictor time  =       0.350520,  66.867735\n",
        " Corrector time  =       0.018254,  3.482265\n",
        " Make bMat time  =       0.318507,  60.760703\n",
        " Make bDia time  =       0.000003,  0.000572\n",
        " Make bF1  time  =       0.000000,  0.000000\n",
        " Make bF2  time  =       0.091802,  17.512815\n",
        " Make bF3  time  =       0.211319,  40.312744\n",
        " Make bPRE time  =       0.005685,  1.084512\n",
        " Make rMat time  =       0.007880,  1.503246\n",
        " Make gVec Mul   =       0.014292,  2.726445\n",
        " Make gVec time  =       0.015153,  2.890696\n",
        " Cholesky bMat   =       0.014959,  2.853687\n",
        " Ste Pre time    =       0.000010,  0.001908\n",
        " Ste Cor time    =       0.027266,  5.201460\n",
        " solve           =       0.010256,  1.956509\n",
        " sumDz           =       0.002278,  0.434568\n",
        " makedX          =       0.014798,  2.822974\n",
        " symmetriseDx    =       0.000796,  0.151851\n",
        " makedXdZ        =       0.017879,  3.410728\n",
        " xMatTime        =       0.014447,  2.756014\n",
        " zMatTime        =       0.008956,  1.708511\n",
        " invzMatTime     =       0.000000,  0.000000\n",
        " xMatzMatTime    =       0.000000,  0.000000\n",
        " EigxMatTime     =       0.022567,  4.305044\n",
        " EigzMatTime     =       0.004308,  0.821825\n",
        " EigxMatzMatTime =       0.000000,  0.000000\n",
        " updateRes       =       0.001758,  0.335369\n",
        " EigTime         =       0.026875,  5.126870\n",
        " sub_total_bMat  =       0.205692,  39.239297\n",
        " Main Loop       =       0.524199,  100.000000\n",
        " File Check      =       0.000000,  0.000000\n",
        " File Change     =       0.000006,  0.001145\n",
        " File Read       =       0.011616,  2.215952\n",
        " Total           =       0.535821,  102.217097\n",
        "\n"
       ]
      }
     ],
     "prompt_number": 39
    },
    {
     "cell_type": "code",
     "collapsed": false,
     "input": [
      "sol_fpe_ols_correct = sdpa(objf_fpe_ols, lmis_fpe_ols_correct, variables_fpe_ols)"
     ],
     "language": "python",
     "metadata": {},
     "outputs": [
      {
       "output_type": "stream",
       "stream": "stdout",
       "text": [
        "SDPA start at [Tue Dec 10 11:04:16 2013]\n",
        "param  is tmp/sdpa_dat/param.sdpa \n",
        "data   is tmp/sdpa_dat/sdp.dat-s  : sparse\n",
        "out    is tmp/sdpa_dat/sdpa.out\n",
        "NumThreads  is set as 1\n",
        "Schur computation : DENSE \n",
        "   mu      thetaP  thetaD  objP      objD      alphaP  alphaD  beta \n",
        " 0 1.0e+04 1.0e+00 1.0e+00 -0.00e+00 +5.91e+06 6.4e-01 7.7e-01 2.00e-01\n",
        " 1 4.5e+03 3.6e-01 2.3e-01 +3.77e+04 +1.40e+06 7.4e-01 7.8e-01 2.00e-01\n",
        " 2 1.5e+03 9.3e-02 5.1e-02 +5.38e+04 +3.49e+05 8.5e-01 8.7e-01 2.00e-01\n",
        " 3 3.8e+02 1.4e-02 6.9e-03 +5.86e+04 +8.64e+04 8.1e-01 8.4e-01 2.00e-01\n",
        " 4 1.3e+02 2.6e-03 1.1e-03 +5.91e+04 +5.63e+04 6.2e-01 8.7e-01 2.00e-01\n",
        " 5 4.3e+01 1.0e-03 1.4e-04 +5.92e+04 +5.68e+04 3.8e-01 4.5e-01 2.00e-01\n",
        " 6 2.8e+01 6.2e-04 7.8e-05 +5.92e+04 +5.81e+04 2.2e-01 2.8e-01 2.00e-01\n",
        " 7 2.3e+01 4.8e-04 5.6e-05 +5.94e+04 +5.90e+04 2.8e-01 2.9e-01 2.00e-01\n",
        " 8 2.0e+01 3.5e-04 4.0e-05 +5.97e+04 +5.97e+04 3.9e-01 2.3e-01 2.00e-01\n",
        " 9 1.7e+01 2.1e-04 3.0e-05 +6.03e+04 +6.01e+04 3.2e-01 2.4e-01 2.00e-01\n",
        "10 1.3e+01 1.4e-04 2.3e-05 +6.05e+04 +6.06e+04 5.3e-01 5.9e-01 2.00e-01\n",
        "11 7.6e+00 6.8e-05 9.4e-06 +6.10e+04 +6.10e+04 4.5e-01 4.2e-01 2.00e-01\n",
        "12 5.2e+00 3.7e-05 5.5e-06 +6.13e+04 +6.12e+04 5.9e-01 4.2e-01 2.00e-01\n",
        "13 3.3e+00 1.5e-05 3.2e-06 +6.15e+04 +6.14e+04 7.2e-01 7.9e-01 2.00e-01\n",
        "14 1.2e+00 4.2e-06 6.8e-07 +6.17e+04 +6.16e+04 9.0e-01 8.6e-01 2.00e-01\n",
        "15 3.5e-01 4.2e-07 2.7e-07 +6.17e+04 +6.17e+04 1.0e+00 8.9e-01 2.00e-01\n",
        "16 9.3e-02 5.1e-15 5.6e-08 +6.17e+04 +6.17e+04 1.2e+00 8.8e-01 2.00e-01\n",
        "17 2.5e-02 4.6e-14 2.0e-07 +6.17e+04 +6.17e+04 1.8e+00 8.8e-01 2.00e-01\n",
        "18 6.7e-03 3.1e-14 2.4e-06 +6.17e+04 +6.17e+04 1.8e+00 8.8e-01 2.00e-01\n",
        "\n",
        "phase.value  = pFEAS     \n",
        "   Iteration = 18\n",
        "          mu = +6.6735184242093532e-03\n",
        "relative gap = +1.0803054043626846e-05\n",
        "        gap  = +6.6654072923120111e-01\n",
        "     digits  = +4.9664534512912413e+00\n",
        "objValPrimal = +6.1699620022005016e+04\n",
        "objValDual   = +6.1698953481275785e+04\n",
        "p.feas.error = +1.8649416594351820e-09\n",
        "d.feas.error = +7.1013433534972137e-04\n",
        "total time   = 0.333135\n",
        "** Paramters **\n",
        "maxIteration = 100\n",
        "epsilonStar  = +9.9999999999999995e-08\n",
        "lambdaStar   = +1.0000000000000000e+02\n",
        "omegaStar    = +2.0000000000000000e+00\n",
        "lowerBound   = -1.0000000000000000e+05\n",
        "upperBound   = +1.0000000000000000e+05\n",
        "betaStar     = +1.0000000000000001e-01\n",
        "betaBar      = +2.0000000000000001e-01\n",
        "gammaStar    = +9.0000000000000002e-01\n",
        "epsilonDash  = +9.9999999999999995e-08\n",
        "xPrint       = %+14.9e \n",
        "XPrint       = %+14.9e \n",
        "YPrint       = %+14.9e \n",
        "infPrint     = %+10.16e \n",
        "\n",
        "                         Time(sec)  Ratio(% : MainLoop) \n",
        " Predictor time  =       0.276518,  84.871719\n",
        " Corrector time  =       0.012761,  3.916736\n",
        " Make bMat time  =       0.271766,  83.413186\n",
        " Make bDia time  =       0.000056,  0.017188\n",
        " Make bF1  time  =       0.000000,  0.000000\n",
        " Make bF2  time  =       0.086091,  26.423926\n",
        " Make bF3  time  =       0.176462,  54.161513\n",
        " Make bPRE time  =       0.006072,  1.863680\n",
        " Make rMat time  =       0.005449,  1.672463\n",
        " Make gVec Mul   =       0.005655,  1.735690\n",
        " Make gVec time  =       0.006376,  1.956987\n",
        " Cholesky bMat   =       0.004477,  1.374126\n",
        " Ste Pre time    =       0.000005,  0.001535\n",
        " Ste Cor time    =       0.009273,  2.846164\n",
        " solve           =       0.001212,  0.371999\n",
        " sumDz           =       0.001826,  0.560455\n",
        " makedX          =       0.010469,  3.213252\n",
        " symmetriseDx    =       0.000577,  0.177099\n",
        " makedXdZ        =       0.012880,  3.953261\n",
        " xMatTime        =       0.004488,  1.377503\n",
        " zMatTime        =       0.007216,  2.214808\n",
        " invzMatTime     =       0.000000,  0.000000\n",
        " xMatzMatTime    =       0.000000,  0.000000\n",
        " EigxMatTime     =       0.005307,  1.628878\n",
        " EigzMatTime     =       0.003644,  1.118454\n",
        " EigxMatzMatTime =       0.000000,  0.000000\n",
        " updateRes       =       0.001379,  0.423257\n",
        " EigTime         =       0.008951,  2.747332\n",
        " sub_total_bMat  =       0.054041,  16.586814\n",
        " Main Loop       =       0.325807,  100.000000\n",
        " File Check      =       0.000000,  0.000000\n",
        " File Change     =       0.000008,  0.002455\n",
        " File Read       =       0.007320,  2.246729\n",
        " Total           =       0.333135,  102.249184\n",
        "\n"
       ]
      }
     ],
     "prompt_number": 40
    },
    {
     "cell_type": "code",
     "collapsed": false,
     "input": [
      "u_star_paper = sol_fpe_ols_paper[0,0]\n",
      "delta_star_paper = numpy.matrix(sol_fpe_ols_paper[1:])\n",
      "\n",
      "u_star_correct = sol_fpe_ols_correct[0,0]\n",
      "delta_star_correct = numpy.matrix(sol_fpe_ols_correct[1:])"
     ],
     "language": "python",
     "metadata": {},
     "outputs": [],
     "prompt_number": 41
    },
    {
     "cell_type": "code",
     "collapsed": false,
     "input": [
      "beta_star_paper = numpy.array(K * delta_star_paper).astype(float)\n",
      "\n",
      "beta_star_correct = numpy.array(K * delta_star_correct).astype(float)"
     ],
     "language": "python",
     "metadata": {},
     "outputs": [],
     "prompt_number": 42
    },
    {
     "cell_type": "code",
     "collapsed": false,
     "input": [
      "numpy.linalg.norm(beta_star_paper - beta_star_correct)"
     ],
     "language": "python",
     "metadata": {},
     "outputs": [
      {
       "latex": [
        "$$0.0830740179197$$"
       ],
       "metadata": {},
       "output_type": "pyout",
       "png": "[encoded data removed]",
       "prompt_number": 43,
       "text": [
        "0.0830740179197"
       ]
      }
     ],
     "prompt_number": 43
    },
    {
     "cell_type": "code",
     "collapsed": false,
     "input": [
      "print(\" B*paper    B*correct\\n\")\n",
      "for i in range(beta_star_correct.shape[0]):\n",
      "    print(\"% f  % f\"%(beta_star_paper[i], beta_star_correct[i]))"
     ],
     "language": "python",
     "metadata": {},
     "outputs": [
      {
       "output_type": "stream",
       "stream": "stdout",
       "text": [
        " B*paper    B*correct\n",
        "\n",
        " 0.107302   0.107016\n",
        " 1.459653   1.460654\n",
        " 1.904570   1.903715\n",
        " 1.185276   1.185173\n",
        "-0.046712  -0.046817\n",
        "-0.005783  -0.005702\n",
        " 1.029905   1.028067\n",
        " 0.028633   0.028255\n",
        "-0.002467  -0.002495\n",
        " 2.437256   2.437271\n",
        " 2.521836   2.522543\n",
        " 0.628596   0.628722\n",
        " 0.164185   0.165079\n",
        "-0.024347  -0.024399\n",
        "-0.000118  -0.000276\n",
        " 0.026154   0.026364\n",
        " 0.095539   0.095937\n",
        " 0.157156   0.156962\n",
        "-0.028228  -0.028338\n",
        " 1.231224   1.232568\n",
        " 0.281071   0.280776\n",
        " 0.067822   0.067685\n",
        " 0.024353   0.024379\n",
        " 0.002998   0.002932\n",
        " 0.112864   0.112994\n",
        "-0.006728  -0.006938\n",
        "-0.099383  -0.099540\n",
        " 0.506568   0.506590\n",
        " 0.373215   0.374493\n",
        " 0.941412   0.941163\n",
        " 0.000946   0.000987\n",
        " 0.002364   0.002323\n",
        "-0.000556  -0.000536\n",
        " 0.002389   0.002416\n",
        " 0.001821   0.001744\n",
        "-0.014906  -0.014730\n",
        "-0.013277  -0.012938\n",
        " 0.220504   0.161905\n",
        "-0.058760   0.000001\n",
        " 0.014335   0.013521\n",
        "-0.004153  -0.004032\n",
        "-0.003967  -0.003976\n",
        " 0.004626   0.004605\n",
        " 0.001502   0.001547\n",
        " 0.003062   0.003207\n",
        " 0.014443   0.014473\n",
        " 0.153190   0.153522\n",
        " 0.043348   0.042993\n",
        " 0.006061   0.006007\n",
        "-0.000133  -0.000080\n",
        " 0.003771   0.003766\n",
        "-0.000121  -0.000086\n",
        " 0.003213   0.003168\n",
        " 0.007886   0.007356\n",
        "-0.001545  -0.001455\n",
        " 0.026854   0.026449\n",
        " 0.075723   0.074148\n"
       ]
      }
     ],
     "prompt_number": 44
    },
    {
     "cell_type": "code",
     "collapsed": false,
     "input": [
      "numpy.savetxt(tmpfolder + 'solutions/delta_star_correct.dat', delta_star_correct)\n",
      "numpy.savetxt(tmpfolder + 'solutions/beta_star_correct.dat', beta_star_correct)\n",
      "numpy.savetxt(tmpfolder + 'solutions/delta_star_paper.dat', delta_star_paper)\n",
      "numpy.savetxt(tmpfolder + 'solutions/beta_star_paper.dat', beta_star_paper)"
     ],
     "language": "python",
     "metadata": {},
     "outputs": [],
     "prompt_number": 45
    },
    {
     "cell_type": "markdown",
     "metadata": {},
     "source": [
      "# 6 - Solution Double Check"
     ]
    },
    {
     "cell_type": "markdown",
     "metadata": {},
     "source": [
      "### 1 - LMI Definiteness Test"
     ]
    },
    {
     "cell_type": "code",
     "collapsed": false,
     "input": [
      "def  test_lmi_matrix_psd(delta_solution):\n",
      "    dict_subs = dict(zip(delta, delta_solution))\n",
      "\n",
      "    test = 'ok'\n",
      "    for Di in D_blocks:\n",
      "            m = numpy.matrix(mrepl(Di, dict_subs)).astype(float)\n",
      "            for v in numpy.linalg.eigvals( m ):\n",
      "                if v <= 0.0:\n",
      "                    print(v)\n",
      "                    test = 'fail'\n",
      "    print(test)"
     ],
     "language": "python",
     "metadata": {},
     "outputs": [],
     "prompt_number": 85
    },
    {
     "cell_type": "code",
     "collapsed": false,
     "input": [
      "test_lmi_matrix_psd(numpy.loadtxt(tmpfolder + 'solutions/delta_star_correct.dat').flatten().tolist())"
     ],
     "language": "python",
     "metadata": {},
     "outputs": [
      {
       "output_type": "stream",
       "stream": "stdout",
       "text": [
        "ok\n"
       ]
      }
     ],
     "prompt_number": 86
    },
    {
     "cell_type": "markdown",
     "metadata": {},
     "source": [
      "### 2 - Inertia Matrix Definiteness Test"
     ]
    },
    {
     "cell_type": "code",
     "collapsed": false,
     "input": [
      "def test_mass_matrix_psd(beta_solution):\n",
      "    K = rbt.dyn.Pb.T + rbt.dyn.Kd * rbt.dyn.Pd.T\n",
      "    A = numpy.matrix(K).astype(float)\n",
      "    b = numpy.matrix(beta_solution).astype(float)\n",
      "    x = numpy.linalg.pinv(A) * b\n",
      "    d_test = x\n",
      "    \n",
      "    M_func_def = sympybotics.robotcodegen.robot_code_to_func( 'python', rbt.M_code, 'M', 'M_func', rbt.rbtdef)\n",
      "    exec(M_func_def, globals())\n",
      "    global sin, cos\n",
      "    from math import sin, cos\n",
      "    \n",
      "    ntests = 10000\n",
      "    \n",
      "    ok = 0\n",
      "    nok = 0\n",
      "    for i in range(ntests):\n",
      "        q_test = numpy.random.rand(rbt.dof)\n",
      "        M_out = M_func( numpy.array(d_test).flatten().tolist(), q_test)\n",
      "        M = numpy.matrix(M_out).reshape((rbt.dof,rbt.dof))\n",
      "        try:\n",
      "            c = numpy.linalg.cholesky(M)\n",
      "        except:\n",
      "            nok += 1\n",
      "            continue\n",
      "        ok += 1\n",
      "        \n",
      "    print 'ok     %8i  %3i%%'%(ok, 100.0*ok/ntests) \n",
      "    print 'not ok %8i  %3i%%'%(nok, 100.0*nok/ntests)\n",
      "    if nok > 0 :\n",
      "        print('\\nNot PSD -> Not feasible!')\n",
      "    else:\n",
      "        print('\\nSeems feasible.')"
     ],
     "language": "python",
     "metadata": {},
     "outputs": [],
     "prompt_number": 87
    },
    {
     "cell_type": "code",
     "collapsed": false,
     "input": [
      "beta_ols = numpy.matrix(numpy.loadtxt(tmpfolder + 'solutions/beta_ols.dat')).T\n",
      "test_mass_matrix_psd(beta_ols)"
     ],
     "language": "python",
     "metadata": {},
     "outputs": [
      {
       "output_type": "stream",
       "stream": "stdout",
       "text": [
        "ok            0    0%\n",
        "not ok    10000  100%\n",
        "\n",
        "Not PSD -> Not feasible!\n"
       ]
      }
     ],
     "prompt_number": 88
    },
    {
     "cell_type": "code",
     "collapsed": false,
     "input": [
      "beta_starextra = numpy.matrix(numpy.loadtxt(tmpfolder + 'solutions/beta_star_correct.dat')).T\n",
      "test_mass_matrix_psd(beta_starextra)"
     ],
     "language": "python",
     "metadata": {},
     "outputs": [
      {
       "output_type": "stream",
       "stream": "stdout",
       "text": [
        "ok        10000  100%\n",
        "not ok        0    0%\n",
        "\n",
        "Seems feasible.\n"
       ]
      }
     ],
     "prompt_number": 89
    },
    {
     "cell_type": "markdown",
     "metadata": {},
     "source": [
      "7 - Tables\n",
      "=========="
     ]
    },
    {
     "cell_type": "code",
     "collapsed": false,
     "input": [
      "import numpy as np\n",
      "import sympybotics\n",
      "import pickle\n",
      "\n",
      "from collections import OrderedDict\n",
      "from support_funcs.utils import ListTable"
     ],
     "language": "python",
     "metadata": {},
     "outputs": [],
     "prompt_number": 48
    },
    {
     "cell_type": "code",
     "collapsed": false,
     "input": [
      "with open(tmpfolder +  'robotmodels/wam7_model.pkl', 'rb' ) as file:\n",
      "          rbt = pickle.load( file )"
     ],
     "language": "python",
     "metadata": {},
     "outputs": [],
     "prompt_number": 49
    },
    {
     "cell_type": "code",
     "collapsed": false,
     "input": [
      "def analyse(W, omega, R1, beta):\n",
      "    from numpy import matrix, mean\n",
      "    from numpy.linalg import cond, norm\n",
      "    \n",
      "    p = dict()\n",
      "    \n",
      "    n = W.shape[0]\n",
      "    \n",
      "    omega_norm = norm(omega)\n",
      "    omega_mean = mean(omega)\n",
      "    \n",
      "    p['err'] = norm(omega - W * beta)\n",
      "    p['merr'] = p['err'] / n\n",
      "    \n",
      "    p['se'] = p['err']**2\n",
      "    p['mse'] = p['se']/(n-W.shape[1])\n",
      "    p['rmse'] = p['mse']**0.5\n",
      "    \n",
      "    C = p['mse'] * (R1.T * R1).I\n",
      "    p['sd'] = np.sqrt(C.diagonal()).T\n",
      "    p['sd%'] = 100. * p['sd'] / np.abs(beta)\n",
      "    \n",
      "    p['relerr'] = p['err']/ omega_norm\n",
      "    p['relerr%'] = p['relerr']*100.\n",
      "    \n",
      "    p['1-r2'] = p['err']**2 / norm(omega - omega_mean)**2\n",
      "    p['r2'] = 1 - p['1-r2']\n",
      "\n",
      "    return p\n",
      "    "
     ],
     "language": "python",
     "metadata": {},
     "outputs": [],
     "prompt_number": 50
    },
    {
     "cell_type": "code",
     "collapsed": false,
     "input": [
      "betas = OrderedDict([('beta_ols', 'B^'),\n",
      "                     ('beta_star_paper', 'B* paper'),\n",
      "                     ('beta_star_correct', 'B* correct')])"
     ],
     "language": "python",
     "metadata": {},
     "outputs": [],
     "prompt_number": 51
    },
    {
     "cell_type": "code",
     "collapsed": false,
     "input": [
      "solutions_beta = {betaname:np.matrix(np.loadtxt(tmpfolder + 'solutions/%s.dat'%(betaname))).T for betaname in betas}"
     ],
     "language": "python",
     "metadata": {},
     "outputs": [],
     "prompt_number": 52
    },
    {
     "cell_type": "code",
     "collapsed": false,
     "input": [
      "analysis = dict()\n",
      "\n",
      "from numpy.linalg import cond\n",
      "\n",
      "\n",
      "regr_mats = np.load(tmpfolder + 'procdata/regr_n0v.npz')\n",
      "W = np.matrix(regr_mats['W'])\n",
      "omega = np.matrix(regr_mats['omega'])\n",
      "R1 = np.matrix(regr_mats['R1'])\n",
      "\n",
      "analysis['cond'] = cond(W)\n",
      "\n",
      "analysis['betas'] = dict()\n",
      "\n",
      "for betaname in betas:\n",
      "    beta = solutions_beta[betaname]\n",
      "    analysis['betas'][betaname] = analyse(W, omega, R1, beta)\n",
      "\n",
      "del W, omega, R1"
     ],
     "language": "python",
     "metadata": {},
     "outputs": [],
     "prompt_number": 53
    },
    {
     "cell_type": "code",
     "collapsed": false,
     "input": [
      "prop = lambda x: x['mse']\n",
      "form = '%.4f'\n",
      "\n",
      "table = ListTable()\n",
      "table.append(['cond'] + betas.values())\n",
      "row = ['%.0f'%analysis['cond']] + [ form%prop(analysis['betas'][b]) for b in betas]\n",
      "table.append(row)\n",
      "table"
     ],
     "language": "python",
     "metadata": {},
     "outputs": [
      {
       "html": [
        "<table><tr><td>cond</td><td>B^</td><td>B* paper</td><td>B* correct</td></tr><tr><td>48</td><td>0.1489</td><td>0.1552</td><td>0.1553</td></tr></table>"
       ],
       "metadata": {},
       "output_type": "pyout",
       "prompt_number": 54,
       "text": [
        "[['cond', 'B^', 'B* paper', 'B* correct'],\n",
        " ['48', '0.1489', '0.1552', '0.1553']]"
       ]
      }
     ],
     "prompt_number": 54
    },
    {
     "cell_type": "code",
     "collapsed": false,
     "input": [
      "import yaml, sympy\n",
      "with open(datafolder + 'robotparams/wam7_cad.yml', 'r') as f:\n",
      "    wam7_cad = yaml.load(f)\n",
      "delta_cad = sympy.Matrix([wam7_cad.get(str(d), d) for d in rbt.dyn.dynparms])\n",
      "beta_cad = (rbt.dyn.Pb.T + rbt.dyn.Kd * rbt.dyn.Pd.T) * delta_cad"
     ],
     "language": "python",
     "metadata": {},
     "outputs": [],
     "prompt_number": 55
    },
    {
     "cell_type": "code",
     "collapsed": false,
     "input": [
      "form = '%.6g'\n",
      "\n",
      "import sympy\n",
      "\n",
      "table = ListTable()\n",
      "header = ['', 'Bcad', 'B^', 'B* paper', 'B* correct']\n",
      "table.append(header)\n",
      "for i, b in enumerate(rbt.dyn.baseparms):\n",
      "    if beta_cad[i].is_Number:\n",
      "        cad_v = sympy.N(beta_cad[i], 4)\n",
      "    elif beta_cad[i].is_Symbol:\n",
      "        cad_v = '---'\n",
      "    else:\n",
      "        cad_v = sympy.N(beta_cad[i], 4)\n",
      "    row = ['%.7s ...'%b if len(str(b)) > 7 else str(b), cad_v]\n",
      "    row += [form%solutions_beta['beta_ols'][i,0]]\n",
      "    row += [form%solutions_beta['beta_star_paper'][i,0]]\n",
      "    row += [form%solutions_beta['beta_star_correct'][i,0]]\n",
      "    table.append(row)\n",
      "table"
     ],
     "language": "python",
     "metadata": {},
     "outputs": [
      {
       "html": [
        "<table><tr><td></td><td>Bcad</td><td>B^</td><td>B* paper</td><td>B* correct</td></tr><tr><td>L_1yy + ...</td><td>0.1328</td><td>0.17771</td><td>0.107302</td><td>0.107016</td></tr><tr><td>fv_1</td><td>---</td><td>1.49489</td><td>1.45965</td><td>1.46065</td></tr><tr><td>fc_1</td><td>---</td><td>1.86209</td><td>1.90457</td><td>1.90372</td></tr><tr><td>L_2xx - ...</td><td>1.181</td><td>1.12186</td><td>1.18528</td><td>1.18517</td></tr><tr><td>L_2xy</td><td>1.347e-5</td><td>-0.0808529</td><td>-0.0467122</td><td>-0.0468169</td></tr><tr><td>L_2xz</td><td>0.0001170</td><td>-0.0129344</td><td>-0.00578319</td><td>-0.005702</td></tr><tr><td>L_2yy + ...</td><td>1.189</td><td>1.03628</td><td>1.0299</td><td>1.02807</td></tr><tr><td>L_2yz</td><td>-3.659e-5</td><td>0.0869592</td><td>0.0286329</td><td>0.028255</td></tr><tr><td>l_2x</td><td>-0.009183</td><td>-0.00496764</td><td>-0.00246749</td><td>-0.00249487</td></tr><tr><td>l_2z -  ...</td><td>2.333</td><td>2.44573</td><td>2.43726</td><td>2.43727</td></tr><tr><td>fv_2</td><td>---</td><td>2.51851</td><td>2.52184</td><td>2.52254</td></tr><tr><td>fc_2</td><td>---</td><td>0.630382</td><td>0.628596</td><td>0.628722</td></tr><tr><td>L_3xx - ...</td><td>0.003856</td><td>0.2008</td><td>0.164185</td><td>0.165079</td></tr><tr><td>L_3xy - ...</td><td>-2.509e-5</td><td>-0.0551855</td><td>-0.0243473</td><td>-0.024399</td></tr><tr><td>L_3xz</td><td>-5.098e-6</td><td>0.026428</td><td>-0.000118318</td><td>-0.00027634</td></tr><tr><td>L_3yy + ...</td><td>-0.006954</td><td>-0.0143113</td><td>0.0261544</td><td>0.0263636</td></tr><tr><td>L_3yz</td><td>5.295e-6</td><td>0.11501</td><td>0.095539</td><td>0.095937</td></tr><tr><td>l_3x +  ...</td><td>0.1476</td><td>0.159042</td><td>0.157156</td><td>0.156962</td></tr><tr><td>l_3z +  ...</td><td>-0.0004910</td><td>-0.0338928</td><td>-0.0282276</td><td>-0.0283381</td></tr><tr><td>fv_3</td><td>---</td><td>1.19935</td><td>1.23122</td><td>1.23257</td></tr><tr><td>fc_3</td><td>---</td><td>0.290818</td><td>0.281071</td><td>0.280776</td></tr><tr><td>L_4xx - ...</td><td>0.1149</td><td>-0.0143758</td><td>0.0678225</td><td>0.0676846</td></tr><tr><td>L_4xy + ...</td><td>-3.944e-5</td><td>0.0662917</td><td>0.0243528</td><td>0.0243788</td></tr><tr><td>L_4xz</td><td>-8.193e-5</td><td>0.0196295</td><td>0.00299774</td><td>0.00293211</td></tr><tr><td>L_4yy + ...</td><td>0.1057</td><td>0.102886</td><td>0.112864</td><td>0.112994</td></tr><tr><td>L_4yz</td><td>9.417e-5</td><td>-0.0053283</td><td>-0.00672755</td><td>-0.00693814</td></tr><tr><td>l_4x -  ...</td><td>-0.1235</td><td>-0.097343</td><td>-0.099383</td><td>-0.0995403</td></tr><tr><td>l_4z -  ...</td><td>0.5010</td><td>0.503525</td><td>0.506568</td><td>0.50659</td></tr><tr><td>fv_4</td><td>---</td><td>0.383216</td><td>0.373215</td><td>0.374493</td></tr><tr><td>fc_4</td><td>---</td><td>0.952803</td><td>0.941412</td><td>0.941163</td></tr><tr><td>L_5xx - ...</td><td>0.0005648</td><td>-0.0197414</td><td>0.000946437</td><td>0.000987466</td></tr><tr><td>L_5xy</td><td>-2.564e-7</td><td>0.00544528</td><td>0.00236394</td><td>0.00232269</td></tr><tr><td>L_5xz</td><td>1.882e-9</td><td>0.00305786</td><td>-0.000555626</td><td>-0.000536161</td></tr><tr><td>L_5yy + ...</td><td>0.0006530</td><td>-0.00297955</td><td>0.00238942</td><td>0.00241582</td></tr><tr><td>L_5yz</td><td>8.326e-7</td><td>0.000281809</td><td>0.0018205</td><td>0.00174384</td></tr><tr><td>l_5x</td><td>1.104e-5</td><td>-0.0145092</td><td>-0.0149057</td><td>-0.0147303</td></tr><tr><td>l_5z +  ...</td><td>-0.006580</td><td>-0.013968</td><td>-0.0132773</td><td>-0.012938</td></tr><tr><td>fv_5</td><td>---</td><td>0.229574</td><td>0.220504</td><td>0.161905</td></tr><tr><td>fc_5</td><td>---</td><td>-0.0719588</td><td>-0.0587597</td><td>9.10745e-07</td></tr><tr><td>L_6xx - ...</td><td>0.0006155</td><td>0.0222879</td><td>0.0143351</td><td>0.013521</td></tr><tr><td>L_6xy</td><td>-1.483e-6</td><td>-0.00492609</td><td>-0.00415338</td><td>-0.00403197</td></tr><tr><td>L_6xz</td><td>2.005e-6</td><td>0.000150465</td><td>-0.00396737</td><td>-0.00397634</td></tr><tr><td>L_6yy + ...</td><td>0.0007576</td><td>0.00184063</td><td>0.0046262</td><td>0.00460538</td></tr><tr><td>L_6yz</td><td>0.0002216</td><td>-0.00419816</td><td>0.00150217</td><td>0.00154691</td></tr><tr><td>l_6x</td><td>-5.125e-5</td><td>0.000685981</td><td>0.00306227</td><td>0.00320708</td></tr><tr><td>l_6z +  ...</td><td>0.01421</td><td>0.0158209</td><td>0.0144429</td><td>0.0144734</td></tr><tr><td>fv_6</td><td>---</td><td>0.161594</td><td>0.15319</td><td>0.153522</td></tr><tr><td>fc_6</td><td>---</td><td>0.0418323</td><td>0.0433479</td><td>0.0429927</td></tr><tr><td>L_7xx - ...</td><td>-3.286e-7</td><td>0.00533126</td><td>0.00606113</td><td>0.00600746</td></tr><tr><td>L_7xy</td><td>1.909e-7</td><td>0.000603387</td><td>-0.0001332</td><td>-8.01656e-05</td></tr><tr><td>L_7xz</td><td>-1.771e-8</td><td>0.00523693</td><td>0.00377092</td><td>0.00376623</td></tr><tr><td>L_7yz</td><td>3.623e-8</td><td>0.00240936</td><td>-0.000120545</td><td>-8.62433e-05</td></tr><tr><td>L_7zz</td><td>7.408e-5</td><td>0.00225635</td><td>0.00321269</td><td>0.00316847</td></tr><tr><td>l_7x</td><td>-5.474e-6</td><td>0.00981288</td><td>0.00788635</td><td>0.00735557</td></tr><tr><td>l_7y</td><td>1.120e-5</td><td>-0.00407073</td><td>-0.00154502</td><td>-0.00145461</td></tr><tr><td>fv_7</td><td>---</td><td>0.0208963</td><td>0.026854</td><td>0.0264487</td></tr><tr><td>fc_7</td><td>---</td><td>0.0899165</td><td>0.0757228</td><td>0.0741484</td></tr></table>"
       ],
       "metadata": {},
       "output_type": "pyout",
       "prompt_number": 56,
       "text": [
        "[['', 'Bcad', 'B^', 'B* paper', 'B* correct'],\n",
        " ['L_1yy + ...', 0.1328, '0.17771', '0.107302', '0.107016'],\n",
        " ['fv_1', '---', '1.49489', '1.45965', '1.46065'],\n",
        " ['fc_1', '---', '1.86209', '1.90457', '1.90372'],\n",
        " ['L_2xx - ...', 1.181, '1.12186', '1.18528', '1.18517'],\n",
        " ['L_2xy', 1.347e-5, '-0.0808529', '-0.0467122', '-0.0468169'],\n",
        " ['L_2xz', 0.0001170, '-0.0129344', '-0.00578319', '-0.005702'],\n",
        " ['L_2yy + ...', 1.189, '1.03628', '1.0299', '1.02807'],\n",
        " ['L_2yz', -3.659e-5, '0.0869592', '0.0286329', '0.028255'],\n",
        " ['l_2x', -0.009183, '-0.00496764', '-0.00246749', '-0.00249487'],\n",
        " ['l_2z -  ...', 2.333, '2.44573', '2.43726', '2.43727'],\n",
        " ['fv_2', '---', '2.51851', '2.52184', '2.52254'],\n",
        " ['fc_2', '---', '0.630382', '0.628596', '0.628722'],\n",
        " ['L_3xx - ...', 0.003856, '0.2008', '0.164185', '0.165079'],\n",
        " ['L_3xy - ...', -2.509e-5, '-0.0551855', '-0.0243473', '-0.024399'],\n",
        " ['L_3xz', -5.098e-6, '0.026428', '-0.000118318', '-0.00027634'],\n",
        " ['L_3yy + ...', -0.006954, '-0.0143113', '0.0261544', '0.0263636'],\n",
        " ['L_3yz', 5.295e-6, '0.11501', '0.095539', '0.095937'],\n",
        " ['l_3x +  ...', 0.1476, '0.159042', '0.157156', '0.156962'],\n",
        " ['l_3z +  ...', -0.0004910, '-0.0338928', '-0.0282276', '-0.0283381'],\n",
        " ['fv_3', '---', '1.19935', '1.23122', '1.23257'],\n",
        " ['fc_3', '---', '0.290818', '0.281071', '0.280776'],\n",
        " ['L_4xx - ...', 0.1149, '-0.0143758', '0.0678225', '0.0676846'],\n",
        " ['L_4xy + ...', -3.944e-5, '0.0662917', '0.0243528', '0.0243788'],\n",
        " ['L_4xz', -8.193e-5, '0.0196295', '0.00299774', '0.00293211'],\n",
        " ['L_4yy + ...', 0.1057, '0.102886', '0.112864', '0.112994'],\n",
        " ['L_4yz', 9.417e-5, '-0.0053283', '-0.00672755', '-0.00693814'],\n",
        " ['l_4x -  ...', -0.1235, '-0.097343', '-0.099383', '-0.0995403'],\n",
        " ['l_4z -  ...', 0.5010, '0.503525', '0.506568', '0.50659'],\n",
        " ['fv_4', '---', '0.383216', '0.373215', '0.374493'],\n",
        " ['fc_4', '---', '0.952803', '0.941412', '0.941163'],\n",
        " ['L_5xx - ...', 0.0005648, '-0.0197414', '0.000946437', '0.000987466'],\n",
        " ['L_5xy', -2.564e-7, '0.00544528', '0.00236394', '0.00232269'],\n",
        " ['L_5xz', 1.882e-9, '0.00305786', '-0.000555626', '-0.000536161'],\n",
        " ['L_5yy + ...', 0.0006530, '-0.00297955', '0.00238942', '0.00241582'],\n",
        " ['L_5yz', 8.326e-7, '0.000281809', '0.0018205', '0.00174384'],\n",
        " ['l_5x', 1.104e-5, '-0.0145092', '-0.0149057', '-0.0147303'],\n",
        " ['l_5z +  ...', -0.006580, '-0.013968', '-0.0132773', '-0.012938'],\n",
        " ['fv_5', '---', '0.229574', '0.220504', '0.161905'],\n",
        " ['fc_5', '---', '-0.0719588', '-0.0587597', '9.10745e-07'],\n",
        " ['L_6xx - ...', 0.0006155, '0.0222879', '0.0143351', '0.013521'],\n",
        " ['L_6xy', -1.483e-6, '-0.00492609', '-0.00415338', '-0.00403197'],\n",
        " ['L_6xz', 2.005e-6, '0.000150465', '-0.00396737', '-0.00397634'],\n",
        " ['L_6yy + ...', 0.0007576, '0.00184063', '0.0046262', '0.00460538'],\n",
        " ['L_6yz', 0.0002216, '-0.00419816', '0.00150217', '0.00154691'],\n",
        " ['l_6x', -5.125e-5, '0.000685981', '0.00306227', '0.00320708'],\n",
        " ['l_6z +  ...', 0.01421, '0.0158209', '0.0144429', '0.0144734'],\n",
        " ['fv_6', '---', '0.161594', '0.15319', '0.153522'],\n",
        " ['fc_6', '---', '0.0418323', '0.0433479', '0.0429927'],\n",
        " ['L_7xx - ...', -3.286e-7, '0.00533126', '0.00606113', '0.00600746'],\n",
        " ['L_7xy', 1.909e-7, '0.000603387', '-0.0001332', '-8.01656e-05'],\n",
        " ['L_7xz', -1.771e-8, '0.00523693', '0.00377092', '0.00376623'],\n",
        " ['L_7yz', 3.623e-8, '0.00240936', '-0.000120545', '-8.62433e-05'],\n",
        " ['L_7zz', 7.408e-5, '0.00225635', '0.00321269', '0.00316847'],\n",
        " ['l_7x', -5.474e-6, '0.00981288', '0.00788635', '0.00735557'],\n",
        " ['l_7y', 1.120e-5, '-0.00407073', '-0.00154502', '-0.00145461'],\n",
        " ['fv_7', '---', '0.0208963', '0.026854', '0.0264487'],\n",
        " ['fc_7', '---', '0.0899165', '0.0757228', '0.0741484']]"
       ]
      }
     ],
     "prompt_number": 56
    },
    {
     "cell_type": "markdown",
     "metadata": {},
     "source": [
      "---------------------------\n",
      "\n",
      "---------------------------\n",
      "\n",
      "---------------------------\n",
      "\n",
      "---------------------------"
     ]
    },
    {
     "cell_type": "markdown",
     "metadata": {},
     "source": [
      "## Other Stuff"
     ]
    },
    {
     "cell_type": "code",
     "collapsed": false,
     "input": [
      "delta_star_correct = np.matrix(np.loadtxt(tmpfolder + 'solutions/delta_star_correct.dat')).T"
     ],
     "language": "python",
     "metadata": {},
     "outputs": [],
     "prompt_number": 90
    },
    {
     "cell_type": "code",
     "collapsed": false,
     "input": [
      "K = np.matrix(rbt.dyn.Pb.T + rbt.dyn.Kd * rbt.dyn.Pd.T).astype(float)"
     ],
     "language": "python",
     "metadata": {},
     "outputs": [],
     "prompt_number": 91
    },
    {
     "cell_type": "markdown",
     "metadata": {},
     "source": [
      "$$\\beta^\\star = K\\ \\delta^\\star$$\n",
      "$$\\delta^\\star_{min} = pinv(K)\\ \\beta^\\star$$"
     ]
    },
    {
     "cell_type": "code",
     "collapsed": false,
     "input": [
      "delta_star_correct_min = np.linalg.pinv( K ) * (K * delta_star_correct)\n",
      "\n",
      "delta_star_correct_min = np.round(delta_star_correct_min, 10)"
     ],
     "language": "python",
     "metadata": {},
     "outputs": [],
     "prompt_number": 114
    },
    {
     "cell_type": "markdown",
     "metadata": {},
     "source": [
      "$$K\\ \\delta^\\star_{min} == K\\ \\delta^\\star$$"
     ]
    },
    {
     "cell_type": "code",
     "collapsed": false,
     "input": [
      "np.testing.assert_array_almost_equal(K * delta_star_correct, K * delta_star_correct_min, 10)"
     ],
     "language": "python",
     "metadata": {},
     "outputs": [],
     "prompt_number": 115
    },
    {
     "cell_type": "code",
     "collapsed": false,
     "input": [
      "form = '%.6g'\n",
      "\n",
      "table = ListTable()\n",
      "header = ['', 'Dcad', 'D* correct (original)', 'D* correct (minimized norm)']\n",
      "table.append(header)\n",
      "for i, d in enumerate(rbt.dyn.dynparms):\n",
      "    if delta_cad[i].is_Number:\n",
      "        cad_v = sympy.N(delta_cad[i], 4)\n",
      "    elif delta_cad[i].is_Symbol:\n",
      "        cad_v = '---'\n",
      "    else:\n",
      "        cad_v = sympy.N(delta_cad[i], 4)\n",
      "    row = ['%.7s ...'%b if len(str(d)) > 7 else str(d), cad_v]\n",
      "    row += [form%delta_star_correct[i,0]]\n",
      "    row += [form%delta_star_correct_min[i,0]]\n",
      "    table.append(row)\n",
      "table"
     ],
     "language": "python",
     "metadata": {},
     "outputs": [
      {
       "html": [
        "<table><tr><td></td><td>Dcad</td><td>D* correct (original)</td><td>D* correct (minimized norm)</td></tr><tr><td>L_1xx</td><td>0.2949</td><td>227607</td><td>-0</td></tr><tr><td>L_1xy</td><td>0.007950</td><td>-0</td><td>0</td></tr><tr><td>L_1xz</td><td>9.310e-5</td><td>-0</td><td>0</td></tr><tr><td>L_1yy</td><td>0.1135</td><td>1.53878e-05</td><td>0.076943</td></tr><tr><td>L_1yz</td><td>0.0001871</td><td>-0</td><td>0</td></tr><tr><td>L_1zz</td><td>0.2507</td><td>227607</td><td>-0</td></tr><tr><td>l_1x</td><td>-0.04775</td><td>-0</td><td>-0</td></tr><tr><td>l_1y</td><td>1.312</td><td>-0</td><td>0</td></tr><tr><td>l_1z</td><td>-0.007159</td><td>-0</td><td>0</td></tr><tr><td>m_1</td><td>10.77</td><td>227607</td><td>0</td></tr><tr><td>fv_1</td><td>---</td><td>1.46065</td><td>1.46065</td></tr><tr><td>fc_1</td><td>---</td><td>1.90372</td><td>1.90372</td></tr><tr><td>L_2xx</td><td>0.02607</td><td>0.278939</td><td>0.0468699</td></tr><tr><td>L_2xy</td><td>1.347e-5</td><td>-0.0468169</td><td>-0.0468169</td></tr><tr><td>L_2xz</td><td>0.0001170</td><td>-0.005702</td><td>-0.005702</td></tr><tr><td>L_2yy</td><td>0.01472</td><td>0.0148318</td><td>-0.14031</td></tr><tr><td>L_2yz</td><td>-3.659e-5</td><td>0.028255</td><td>0.028255</td></tr><tr><td>L_2zz</td><td>0.01935</td><td>0.107001</td><td>0.0300731</td></tr><tr><td>l_2x</td><td>-0.009183</td><td>-0.00249487</td><td>-0.00249487</td></tr><tr><td>l_2y</td><td>0.1203</td><td>-2.19246</td><td>-0</td></tr><tr><td>l_2z</td><td>0.05976</td><td>0.785945</td><td>0.732353</td></tr><tr><td>m_2</td><td>3.875</td><td>239042</td><td>0</td></tr><tr><td>fv_2</td><td>---</td><td>2.52254</td><td>2.52254</td></tr><tr><td>fc_2</td><td>---</td><td>0.628722</td><td>0.628722</td></tr><tr><td>L_3xx</td><td>0.1367</td><td>5081.85</td><td>0.0168813</td></tr><tr><td>L_3xy</td><td>0.01680</td><td>415.744</td><td>-0.052623</td></tr><tr><td>L_3xz</td><td>-5.098e-6</td><td>-0.00027634</td><td>-0.00027634</td></tr><tr><td>L_3yy</td><td>0.005884</td><td>34.0198</td><td>-0.00357717</td></tr><tr><td>L_3yz</td><td>5.295e-6</td><td>0.095937</td><td>0.095937</td></tr><tr><td>L_3zz</td><td>0.1395</td><td>5115.74</td><td>-0.110321</td></tr><tr><td>l_3x</td><td>-0.06895</td><td>-755.92</td><td>0.0687854</td></tr><tr><td>l_3y</td><td>0.3740</td><td>9239.29</td><td>-0.627201</td></tr><tr><td>l_3z</td><td>5.964e-5</td><td>-0.176771</td><td>-0.0147313</td></tr><tr><td>m_3</td><td>1.802</td><td>16798.3</td><td>0.377854</td></tr><tr><td>fv_3</td><td>---</td><td>1.23257</td><td>1.23257</td></tr><tr><td>fc_3</td><td>---</td><td>0.280776</td><td>0.280776</td></tr><tr><td>L_4xx</td><td>0.05719</td><td>0.0807498</td><td>-0.0238074</td></tr><tr><td>L_4xy</td><td>-1.466e-5</td><td>0.0176993</td><td>0.0249911</td></tr><tr><td>L_4xz</td><td>-8.193e-5</td><td>0.00293211</td><td>0.00293211</td></tr><tr><td>L_4yy</td><td>0.05716</td><td>0.102844</td><td>-0.00920375</td></tr><tr><td>L_4yz</td><td>9.417e-5</td><td>-0.00693814</td><td>-0.00693814</td></tr><tr><td>L_4zz</td><td>0.003004</td><td>0.0368726</td><td>0.0371116</td></tr><tr><td>l_4x</td><td>0.01197</td><td>0.0522052</td><td>-0.0283669</td></tr><tr><td>l_4y</td><td>-0.0005507</td><td>0.148433</td><td>-0.0136067</td></tr><tr><td>l_4z</td><td>0.3185</td><td>0.429644</td><td>0.0828147</td></tr><tr><td>m_4</td><td>2.400</td><td>2.95593</td><td>0.379074</td></tr><tr><td>fv_4</td><td>---</td><td>0.374493</td><td>0.374493</td></tr><tr><td>fc_4</td><td>---</td><td>0.941163</td><td>0.941163</td></tr><tr><td>L_5xx</td><td>5.588e-5</td><td>0.00795726</td><td>-0.0123771</td></tr><tr><td>L_5xy</td><td>-2.564e-7</td><td>0.00232269</td><td>0.00232269</td></tr><tr><td>L_5xz</td><td>1.882e-9</td><td>-0.000536161</td><td>-0.000536161</td></tr><tr><td>L_5yy</td><td>7.817e-5</td><td>0.00111687</td><td>0.00968539</td></tr><tr><td>L_5yz</td><td>8.326e-7</td><td>0.00174384</td><td>0.00174384</td></tr><tr><td>L_5zz</td><td>6.594e-5</td><td>0.00826874</td><td>-0.0206341</td></tr><tr><td>l_5x</td><td>1.104e-5</td><td>-0.0147303</td><td>-0.0147303</td></tr><tr><td>l_5y</td><td>0.0006327</td><td>0.0479118</td><td>-0.063008</td></tr><tr><td>l_5z</td><td>0.0005394</td><td>-0.0110598</td><td>-0.006469</td></tr><tr><td>m_5</td><td>0.1238</td><td>0.303861</td><td>0.400948</td></tr><tr><td>fv_5</td><td>---</td><td>0.161905</td><td>0.161905</td></tr><tr><td>fc_5</td><td>---</td><td>9.10745e-07</td><td>9.107e-07</td></tr><tr><td>L_6xx</td><td>0.0009311</td><td>0.0134276</td><td>0.00457788</td></tr><tr><td>L_6xy</td><td>-1.483e-6</td><td>-0.00403197</td><td>-0.00403197</td></tr><tr><td>L_6xz</td><td>2.005e-6</td><td>-0.00397634</td><td>-0.00397634</td></tr><tr><td>L_6yy</td><td>0.0004983</td><td>0.00321299</td><td>0.0029318</td></tr><tr><td>L_6yz</td><td>0.0002216</td><td>0.00154691</td><td>0.00154691</td></tr><tr><td>L_6zz</td><td>0.0005748</td><td>0.00129895</td><td>-0.00726957</td></tr><tr><td>l_6x</td><td>-5.125e-5</td><td>0.00320708</td><td>0.00320708</td></tr><tr><td>l_6y</td><td>-0.007119</td><td>-0.00187818</td><td>-0.006469</td></tr><tr><td>l_6z</td><td>0.01032</td><td>0.00764875</td><td>-0.00523369</td></tr><tr><td>m_6</td><td>0.4180</td><td>0.0396031</td><td>0.400948</td></tr><tr><td>fv_6</td><td>---</td><td>0.153522</td><td>0.153522</td></tr><tr><td>fc_6</td><td>---</td><td>0.0429927</td><td>0.0429927</td></tr><tr><td>L_7xx</td><td>3.845e-5</td><td>0.00684271</td><td>0.00675857</td></tr><tr><td>L_7xy</td><td>1.909e-7</td><td>-8.01656e-05</td><td>-8.01656e-05</td></tr><tr><td>L_7xz</td><td>-1.771e-8</td><td>0.00376623</td><td>0.00376623</td></tr><tr><td>L_7yy</td><td>3.878e-5</td><td>0.000835249</td><td>0.000751111</td></tr><tr><td>L_7yz</td><td>3.623e-8</td><td>-8.62433e-05</td><td>-8.62433e-05</td></tr><tr><td>L_7zz</td><td>7.408e-5</td><td>0.00316847</td><td>0.00316847</td></tr><tr><td>l_7x</td><td>-5.474e-6</td><td>0.00735557</td><td>0.00735557</td></tr><tr><td>l_7y</td><td>1.120e-5</td><td>-0.00145461</td><td>-0.00145461</td></tr><tr><td>l_7z</td><td>-0.0002221</td><td>0.00246107</td><td>-0.00433253</td></tr><tr><td>m_7</td><td>0.06865</td><td>0.072727</td><td>0.400661</td></tr><tr><td>fv_7</td><td>---</td><td>0.0264487</td><td>0.0264487</td></tr><tr><td>fc_7</td><td>---</td><td>0.0741484</td><td>0.0741484</td></tr></table>"
       ],
       "metadata": {},
       "output_type": "pyout",
       "prompt_number": 116,
       "text": [
        "[['', 'Dcad', 'D* correct (original)', 'D* correct (minimized norm)'],\n",
        " ['L_1xx', 0.2949, '227607', '-0'],\n",
        " ['L_1xy', 0.007950, '-0', '0'],\n",
        " ['L_1xz', 9.310e-5, '-0', '0'],\n",
        " ['L_1yy', 0.1135, '1.53878e-05', '0.076943'],\n",
        " ['L_1yz', 0.0001871, '-0', '0'],\n",
        " ['L_1zz', 0.2507, '227607', '-0'],\n",
        " ['l_1x', -0.04775, '-0', '-0'],\n",
        " ['l_1y', 1.312, '-0', '0'],\n",
        " ['l_1z', -0.007159, '-0', '0'],\n",
        " ['m_1', 10.77, '227607', '0'],\n",
        " ['fv_1', '---', '1.46065', '1.46065'],\n",
        " ['fc_1', '---', '1.90372', '1.90372'],\n",
        " ['L_2xx', 0.02607, '0.278939', '0.0468699'],\n",
        " ['L_2xy', 1.347e-5, '-0.0468169', '-0.0468169'],\n",
        " ['L_2xz', 0.0001170, '-0.005702', '-0.005702'],\n",
        " ['L_2yy', 0.01472, '0.0148318', '-0.14031'],\n",
        " ['L_2yz', -3.659e-5, '0.028255', '0.028255'],\n",
        " ['L_2zz', 0.01935, '0.107001', '0.0300731'],\n",
        " ['l_2x', -0.009183, '-0.00249487', '-0.00249487'],\n",
        " ['l_2y', 0.1203, '-2.19246', '-0'],\n",
        " ['l_2z', 0.05976, '0.785945', '0.732353'],\n",
        " ['m_2', 3.875, '239042', '0'],\n",
        " ['fv_2', '---', '2.52254', '2.52254'],\n",
        " ['fc_2', '---', '0.628722', '0.628722'],\n",
        " ['L_3xx', 0.1367, '5081.85', '0.0168813'],\n",
        " ['L_3xy', 0.01680, '415.744', '-0.052623'],\n",
        " ['L_3xz', -5.098e-6, '-0.00027634', '-0.00027634'],\n",
        " ['L_3yy', 0.005884, '34.0198', '-0.00357717'],\n",
        " ['L_3yz', 5.295e-6, '0.095937', '0.095937'],\n",
        " ['L_3zz', 0.1395, '5115.74', '-0.110321'],\n",
        " ['l_3x', -0.06895, '-755.92', '0.0687854'],\n",
        " ['l_3y', 0.3740, '9239.29', '-0.627201'],\n",
        " ['l_3z', 5.964e-5, '-0.176771', '-0.0147313'],\n",
        " ['m_3', 1.802, '16798.3', '0.377854'],\n",
        " ['fv_3', '---', '1.23257', '1.23257'],\n",
        " ['fc_3', '---', '0.280776', '0.280776'],\n",
        " ['L_4xx', 0.05719, '0.0807498', '-0.0238074'],\n",
        " ['L_4xy', -1.466e-5, '0.0176993', '0.0249911'],\n",
        " ['L_4xz', -8.193e-5, '0.00293211', '0.00293211'],\n",
        " ['L_4yy', 0.05716, '0.102844', '-0.00920375'],\n",
        " ['L_4yz', 9.417e-5, '-0.00693814', '-0.00693814'],\n",
        " ['L_4zz', 0.003004, '0.0368726', '0.0371116'],\n",
        " ['l_4x', 0.01197, '0.0522052', '-0.0283669'],\n",
        " ['l_4y', -0.0005507, '0.148433', '-0.0136067'],\n",
        " ['l_4z', 0.3185, '0.429644', '0.0828147'],\n",
        " ['m_4', 2.400, '2.95593', '0.379074'],\n",
        " ['fv_4', '---', '0.374493', '0.374493'],\n",
        " ['fc_4', '---', '0.941163', '0.941163'],\n",
        " ['L_5xx', 5.588e-5, '0.00795726', '-0.0123771'],\n",
        " ['L_5xy', -2.564e-7, '0.00232269', '0.00232269'],\n",
        " ['L_5xz', 1.882e-9, '-0.000536161', '-0.000536161'],\n",
        " ['L_5yy', 7.817e-5, '0.00111687', '0.00968539'],\n",
        " ['L_5yz', 8.326e-7, '0.00174384', '0.00174384'],\n",
        " ['L_5zz', 6.594e-5, '0.00826874', '-0.0206341'],\n",
        " ['l_5x', 1.104e-5, '-0.0147303', '-0.0147303'],\n",
        " ['l_5y', 0.0006327, '0.0479118', '-0.063008'],\n",
        " ['l_5z', 0.0005394, '-0.0110598', '-0.006469'],\n",
        " ['m_5', 0.1238, '0.303861', '0.400948'],\n",
        " ['fv_5', '---', '0.161905', '0.161905'],\n",
        " ['fc_5', '---', '9.10745e-07', '9.107e-07'],\n",
        " ['L_6xx', 0.0009311, '0.0134276', '0.00457788'],\n",
        " ['L_6xy', -1.483e-6, '-0.00403197', '-0.00403197'],\n",
        " ['L_6xz', 2.005e-6, '-0.00397634', '-0.00397634'],\n",
        " ['L_6yy', 0.0004983, '0.00321299', '0.0029318'],\n",
        " ['L_6yz', 0.0002216, '0.00154691', '0.00154691'],\n",
        " ['L_6zz', 0.0005748, '0.00129895', '-0.00726957'],\n",
        " ['l_6x', -5.125e-5, '0.00320708', '0.00320708'],\n",
        " ['l_6y', -0.007119, '-0.00187818', '-0.006469'],\n",
        " ['l_6z', 0.01032, '0.00764875', '-0.00523369'],\n",
        " ['m_6', 0.4180, '0.0396031', '0.400948'],\n",
        " ['fv_6', '---', '0.153522', '0.153522'],\n",
        " ['fc_6', '---', '0.0429927', '0.0429927'],\n",
        " ['L_7xx', 3.845e-5, '0.00684271', '0.00675857'],\n",
        " ['L_7xy', 1.909e-7, '-8.01656e-05', '-8.01656e-05'],\n",
        " ['L_7xz', -1.771e-8, '0.00376623', '0.00376623'],\n",
        " ['L_7yy', 3.878e-5, '0.000835249', '0.000751111'],\n",
        " ['L_7yz', 3.623e-8, '-8.62433e-05', '-8.62433e-05'],\n",
        " ['L_7zz', 7.408e-5, '0.00316847', '0.00316847'],\n",
        " ['l_7x', -5.474e-6, '0.00735557', '0.00735557'],\n",
        " ['l_7y', 1.120e-5, '-0.00145461', '-0.00145461'],\n",
        " ['l_7z', -0.0002221, '0.00246107', '-0.00433253'],\n",
        " ['m_7', 0.06865, '0.072727', '0.400661'],\n",
        " ['fv_7', '---', '0.0264487', '0.0264487'],\n",
        " ['fc_7', '---', '0.0741484', '0.0741484']]"
       ]
      }
     ],
     "prompt_number": 116
    },
    {
     "cell_type": "markdown",
     "metadata": {},
     "source": [
      "---------------------------\n",
      "\n",
      "---------------------------\n",
      "\n",
      "---------------------------\n",
      "\n",
      "---------------------------\n",
      "\n",
      "---------------------------\n",
      "\n",
      "---------------------------\n",
      "\n",
      "---------------------------\n",
      "\n",
      "---------------------------\n",
      "\n",
      "---------------------------"
     ]
    },
    {
     "cell_type": "markdown",
     "metadata": {},
     "source": [
      "### save stuff"
     ]
    },
    {
     "cell_type": "code",
     "collapsed": false,
     "input": [
      "def save_files(): \n",
      "    from IPython.display import display, Javascript\n",
      "    Javascript('IPython.notebook.save_notebook()')\n",
      "    \n",
      "    import json\n",
      "    with open('Paper IROS2013 - Phys Feas Dyn Param Ident 7-DOF WAM Rob.ipynb', 'r') as f:\n",
      "        d = json.load(f)\n",
      "    with open('README.md', 'w') as f:\n",
      "        f.write(''.join(d['worksheets'][0]['cells'][0]['source']).encode('UTF-8'))\n",
      "\n",
      "    !ipython nbconvert Paper\\ IROS2013\\ -\\ Phys\\ Feas\\ Dyn\\ Param\\ Ident\\ 7-DOF\\ WAM\\ Rob.ipynb --to html"
     ],
     "language": "python",
     "metadata": {},
     "outputs": [],
     "prompt_number": 14
    },
    {
     "cell_type": "code",
     "collapsed": false,
     "input": [
      "#save_files()"
     ],
     "language": "python",
     "metadata": {},
     "outputs": [],
     "prompt_number": 16
    },
    {
     "cell_type": "code",
     "collapsed": false,
     "input": [
      "#!git status"
     ],
     "language": "python",
     "metadata": {},
     "outputs": [],
     "prompt_number": 11
    },
    {
     "cell_type": "code",
     "collapsed": false,
     "input": [
      "#!git commit -a -m \"Add deltas\""
     ],
     "language": "python",
     "metadata": {},
     "outputs": [],
     "prompt_number": 12
    },
    {
     "cell_type": "code",
     "collapsed": false,
     "input": [
      "#!git push"
     ],
     "language": "python",
     "metadata": {},
     "outputs": [],
     "prompt_number": 13
    },
    {
     "cell_type": "code",
     "collapsed": false,
     "input": [],
     "language": "python",
     "metadata": {},
     "outputs": []
    }
   ],
   "metadata": {}
  }
 ]
}